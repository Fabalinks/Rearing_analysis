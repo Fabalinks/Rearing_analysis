{
 "cells": [
  {
   "cell_type": "code",
   "execution_count": 1,
   "metadata": {},
   "outputs": [],
   "source": [
    "import math\n",
    "import pandas as pd \n",
    "import matplotlib.pyplot as plt \n",
    "import numpy as np\n",
    "import seaborn as sns\n",
    "import matplotlib.lines as mlines\n",
    "import matplotlib.patches as mpatches\n",
    "from numpy import median\n",
    "from scipy.stats import ranksums\n",
    "\n",
    "import numpy as np\n",
    "import scipy.stats\n",
    "\n",
    "import os\n",
    "import fnmatch"
   ]
  },
  {
   "cell_type": "code",
   "execution_count": 190,
   "metadata": {},
   "outputs": [],
   "source": [
    "root3 = '//10.153.170.3/storage2/fabian/data/raw/FS03/Event_files_FS03/'\n",
    "root4 = '//10.153.170.3/storage2/fabian/data/raw/FS04/Event_files_FS04/'\n",
    "figures = 'C:/Users/Fabian/Desktop/Analysis/Round3_FS03_FS06/Figures/'\n",
    "animal = '//10.153.170.3/storage2/fabian/data/raw/FS03/Event_files_FS03/'\n",
    "\n",
    "FS03_position= pd.read_csv(root3+'position_20210312-172823.txt',sep=\" \", header=None)\n",
    "FS04_position = pd.read_csv(root4+'position_20210322-202458.txt',sep=\" \", header=None)\n",
    "\n",
    "FS03_beacon = pd.read_csv(root3+'beacons_20210312-172823.txt',sep=\" \", header=None)\n",
    "FS04_beacon = pd.read_csv(root4+'beacons_20210322-202458.txt',sep=\" \", header=None)\n",
    "\n",
    "FS03_metadata = pd.read_csv(root3+'metadata_20210312-172823.txt',sep=\" \", header=None)"
   ]
  },
  {
   "cell_type": "markdown",
   "metadata": {},
   "source": [
    "### Borders of arena."
   ]
  },
  {
   "cell_type": "code",
   "execution_count": 153,
   "metadata": {},
   "outputs": [],
   "source": [
    "cut=0\n",
    "X_cut_min = -.6\n",
    "Y_cut_max = 1.5\n",
    "X_cut_max = .1\n",
    "Y_cut_min = .08"
   ]
  },
  {
   "cell_type": "markdown",
   "metadata": {},
   "source": [
    "### get secific point per rear event in center of arena"
   ]
  },
  {
   "cell_type": "code",
   "execution_count": 191,
   "metadata": {},
   "outputs": [
    {
     "data": {
      "text/html": [
       "<div>\n",
       "<style scoped>\n",
       "    .dataframe tbody tr th:only-of-type {\n",
       "        vertical-align: middle;\n",
       "    }\n",
       "\n",
       "    .dataframe tbody tr th {\n",
       "        vertical-align: top;\n",
       "    }\n",
       "\n",
       "    .dataframe thead th {\n",
       "        text-align: right;\n",
       "    }\n",
       "</style>\n",
       "<table border=\"1\" class=\"dataframe\">\n",
       "  <thead>\n",
       "    <tr style=\"text-align: right;\">\n",
       "      <th></th>\n",
       "      <th>0</th>\n",
       "      <th>1</th>\n",
       "      <th>2</th>\n",
       "      <th>3</th>\n",
       "    </tr>\n",
       "  </thead>\n",
       "  <tbody>\n",
       "    <tr>\n",
       "      <th>0</th>\n",
       "      <td>1615566506.380</td>\n",
       "      <td>-0.509</td>\n",
       "      <td>0.334</td>\n",
       "      <td>0.628</td>\n",
       "    </tr>\n",
       "    <tr>\n",
       "      <th>1</th>\n",
       "      <td>1615566510.780</td>\n",
       "      <td>-0.441</td>\n",
       "      <td>0.248</td>\n",
       "      <td>0.625</td>\n",
       "    </tr>\n",
       "    <tr>\n",
       "      <th>2</th>\n",
       "      <td>1615566529.700</td>\n",
       "      <td>-0.425</td>\n",
       "      <td>0.719</td>\n",
       "      <td>0.629</td>\n",
       "    </tr>\n",
       "    <tr>\n",
       "      <th>3</th>\n",
       "      <td>1615566572.920</td>\n",
       "      <td>-0.501</td>\n",
       "      <td>0.392</td>\n",
       "      <td>0.625</td>\n",
       "    </tr>\n",
       "    <tr>\n",
       "      <th>4</th>\n",
       "      <td>1615566574.530</td>\n",
       "      <td>-0.487</td>\n",
       "      <td>0.271</td>\n",
       "      <td>0.622</td>\n",
       "    </tr>\n",
       "  </tbody>\n",
       "</table>\n",
       "</div>"
      ],
      "text/plain": [
       "               0      1     2     3\n",
       "0 1615566506.380 -0.509 0.334 0.628\n",
       "1 1615566510.780 -0.441 0.248 0.625\n",
       "2 1615566529.700 -0.425 0.719 0.629\n",
       "3 1615566572.920 -0.501 0.392 0.625\n",
       "4 1615566574.530 -0.487 0.271 0.622"
      ]
     },
     "execution_count": 191,
     "metadata": {},
     "output_type": "execute_result"
    }
   ],
   "source": [
    "def Z_period_points(positions): \n",
    "    high =0 \n",
    "    low = 0\n",
    "    switch = 0 \n",
    "    last = .60\n",
    "    high_points=[]\n",
    "    z= positions[2]\n",
    "    count = 0 \n",
    "    for height in z: \n",
    "        if height >.62 and last<.62:\n",
    "            high +=1  \n",
    "            if  (X_cut_min+cut)< positions[1][count]<(X_cut_max-cut) and (Y_cut_min+cut)< positions[3][count]<(Y_cut_max-cut):\n",
    "                #print (positions[0][count])\n",
    "                high_points.append((positions[0][count],positions[1][count],positions[3][count],positions[2][count]))\n",
    "        last = height\n",
    "        count +=1\n",
    "        \n",
    "    return pd.DataFrame(high_points)\n",
    "Z_points= Z_period_points(FS03_position)\n",
    "\n",
    "pd.options.display.float_format = '{:.3f}'.format\n",
    "#e = Z_points\n",
    "#e[0] = Z_points[0]-Z_points[0][0]\n",
    "Z_points.head()"
   ]
  },
  {
   "cell_type": "code",
   "execution_count": 192,
   "metadata": {},
   "outputs": [
    {
     "data": {
      "text/html": [
       "<div>\n",
       "<style scoped>\n",
       "    .dataframe tbody tr th:only-of-type {\n",
       "        vertical-align: middle;\n",
       "    }\n",
       "\n",
       "    .dataframe tbody tr th {\n",
       "        vertical-align: top;\n",
       "    }\n",
       "\n",
       "    .dataframe thead th {\n",
       "        text-align: right;\n",
       "    }\n",
       "</style>\n",
       "<table border=\"1\" class=\"dataframe\">\n",
       "  <thead>\n",
       "    <tr style=\"text-align: right;\">\n",
       "      <th></th>\n",
       "      <th>0</th>\n",
       "      <th>1</th>\n",
       "      <th>2</th>\n",
       "      <th>3</th>\n",
       "      <th>4</th>\n",
       "      <th>5</th>\n",
       "    </tr>\n",
       "  </thead>\n",
       "  <tbody>\n",
       "    <tr>\n",
       "      <th>0</th>\n",
       "      <td>1615566511.420</td>\n",
       "      <td>-0.403</td>\n",
       "      <td>0.693</td>\n",
       "      <td>0.304</td>\n",
       "      <td>-0.177</td>\n",
       "      <td>-0.524</td>\n",
       "    </tr>\n",
       "    <tr>\n",
       "      <th>1</th>\n",
       "      <td>1615566575.040</td>\n",
       "      <td>-0.477</td>\n",
       "      <td>0.689</td>\n",
       "      <td>0.286</td>\n",
       "      <td>-0.177</td>\n",
       "      <td>-0.524</td>\n",
       "    </tr>\n",
       "    <tr>\n",
       "      <th>2</th>\n",
       "      <td>1615566591.520</td>\n",
       "      <td>-0.486</td>\n",
       "      <td>0.660</td>\n",
       "      <td>0.339</td>\n",
       "      <td>-0.177</td>\n",
       "      <td>-0.524</td>\n",
       "    </tr>\n",
       "    <tr>\n",
       "      <th>3</th>\n",
       "      <td>1615566654.670</td>\n",
       "      <td>-0.436</td>\n",
       "      <td>0.699</td>\n",
       "      <td>0.326</td>\n",
       "      <td>-0.177</td>\n",
       "      <td>-0.524</td>\n",
       "    </tr>\n",
       "    <tr>\n",
       "      <th>4</th>\n",
       "      <td>1615566660.580</td>\n",
       "      <td>-0.432</td>\n",
       "      <td>0.723</td>\n",
       "      <td>0.291</td>\n",
       "      <td>-0.177</td>\n",
       "      <td>-0.524</td>\n",
       "    </tr>\n",
       "  </tbody>\n",
       "</table>\n",
       "</div>"
      ],
      "text/plain": [
       "               0      1     2     3      4      5\n",
       "0 1615566511.420 -0.403 0.693 0.304 -0.177 -0.524\n",
       "1 1615566575.040 -0.477 0.689 0.286 -0.177 -0.524\n",
       "2 1615566591.520 -0.486 0.660 0.339 -0.177 -0.524\n",
       "3 1615566654.670 -0.436 0.699 0.326 -0.177 -0.524\n",
       "4 1615566660.580 -0.432 0.723 0.291 -0.177 -0.524"
      ]
     },
     "execution_count": 192,
     "metadata": {},
     "output_type": "execute_result"
    }
   ],
   "source": [
    "FS03_beacon.head()\n"
   ]
  },
  {
   "cell_type": "code",
   "execution_count": 127,
   "metadata": {},
   "outputs": [],
   "source": [
    "df_rears = Z_points\n",
    "df_rears[1]= Z_points[1]-x_offset\n",
    "df_rears[2]= Z_points[2]+y_offset\n"
   ]
  },
  {
   "cell_type": "code",
   "execution_count": 201,
   "metadata": {},
   "outputs": [
    {
     "data": {
      "text/html": [
       "<div>\n",
       "<style scoped>\n",
       "    .dataframe tbody tr th:only-of-type {\n",
       "        vertical-align: middle;\n",
       "    }\n",
       "\n",
       "    .dataframe tbody tr th {\n",
       "        vertical-align: top;\n",
       "    }\n",
       "\n",
       "    .dataframe thead th {\n",
       "        text-align: right;\n",
       "    }\n",
       "</style>\n",
       "<table border=\"1\" class=\"dataframe\">\n",
       "  <thead>\n",
       "    <tr style=\"text-align: right;\">\n",
       "      <th></th>\n",
       "      <th>0</th>\n",
       "      <th>1</th>\n",
       "      <th>2</th>\n",
       "      <th>3</th>\n",
       "      <th>4</th>\n",
       "      <th>5</th>\n",
       "      <th>6</th>\n",
       "    </tr>\n",
       "  </thead>\n",
       "  <tbody>\n",
       "    <tr>\n",
       "      <th>0</th>\n",
       "      <td>1615566506.380</td>\n",
       "      <td>-0.229</td>\n",
       "      <td>-0.507</td>\n",
       "      <td>0.628</td>\n",
       "      <td>-0.177</td>\n",
       "      <td>-0.524</td>\n",
       "      <td>1.000</td>\n",
       "    </tr>\n",
       "    <tr>\n",
       "      <th>1</th>\n",
       "      <td>1615566510.780</td>\n",
       "      <td>-0.161</td>\n",
       "      <td>-0.593</td>\n",
       "      <td>0.625</td>\n",
       "      <td>-0.177</td>\n",
       "      <td>-0.524</td>\n",
       "      <td>1.000</td>\n",
       "    </tr>\n",
       "    <tr>\n",
       "      <th>2</th>\n",
       "      <td>1615566529.700</td>\n",
       "      <td>-0.145</td>\n",
       "      <td>-0.122</td>\n",
       "      <td>0.629</td>\n",
       "      <td>-0.177</td>\n",
       "      <td>-0.524</td>\n",
       "      <td>1.000</td>\n",
       "    </tr>\n",
       "    <tr>\n",
       "      <th>3</th>\n",
       "      <td>1615566572.920</td>\n",
       "      <td>-0.221</td>\n",
       "      <td>-0.449</td>\n",
       "      <td>0.625</td>\n",
       "      <td>-0.177</td>\n",
       "      <td>-0.524</td>\n",
       "      <td>0.000</td>\n",
       "    </tr>\n",
       "    <tr>\n",
       "      <th>4</th>\n",
       "      <td>1615566574.530</td>\n",
       "      <td>-0.207</td>\n",
       "      <td>-0.570</td>\n",
       "      <td>0.622</td>\n",
       "      <td>-0.177</td>\n",
       "      <td>-0.524</td>\n",
       "      <td>0.000</td>\n",
       "    </tr>\n",
       "  </tbody>\n",
       "</table>\n",
       "</div>"
      ],
      "text/plain": [
       "               0      1      2     3      4      5     6\n",
       "0 1615566506.380 -0.229 -0.507 0.628 -0.177 -0.524 1.000\n",
       "1 1615566510.780 -0.161 -0.593 0.625 -0.177 -0.524 1.000\n",
       "2 1615566529.700 -0.145 -0.122 0.629 -0.177 -0.524 1.000\n",
       "3 1615566572.920 -0.221 -0.449 0.625 -0.177 -0.524 0.000\n",
       "4 1615566574.530 -0.207 -0.570 0.622 -0.177 -0.524 0.000"
      ]
     },
     "execution_count": 201,
     "metadata": {},
     "output_type": "execute_result"
    }
   ],
   "source": [
    "df_rears = Z_points\n",
    "Xs=[]\n",
    "Ys=[]\n",
    "visibility=[]\n",
    "for row in Z_points.iterrows():\n",
    "    #print(row[1][0])\n",
    "    k = FS03_beacon.iloc[(FS03_beacon[0] - row[1][0]).abs().argsort()[:1]]\n",
    "    #print(k.values[0][4])\n",
    "    Xs.append(k.values[0][4])\n",
    "    Ys.append(k.values[0][5])\n",
    "    visibility.append(k.values[0][6])\n",
    "    \n",
    "\n",
    "    #print(FS03_position[0][list(k.index)])\n",
    "    #pos_index.append(int(''.join(map(str,list(k.index)))))\n",
    "df_rears[4]=Xs\n",
    "df_rears[5]=Ys\n",
    "df_rears[6]=visibility\n",
    "df_rears_corrected=df_rears\n",
    "df_rears_corrected[1]=df_rears[1]-x_offset\n",
    "df_rears_corrected[2]=df_rears[2]+y_offset\n",
    "df_rears_corrected.head()\n"
   ]
  },
  {
   "cell_type": "markdown",
   "metadata": {},
   "source": [
    "### Get invisible beacon times"
   ]
  },
  {
   "cell_type": "code",
   "execution_count": 193,
   "metadata": {},
   "outputs": [
    {
     "name": "stdout",
     "output_type": "stream",
     "text": [
      "[1, 0, 1, 0, 1, 0, 1, 0, 1, 0, 1, 0, 1, 0, 1, 0, 1, 0, 1, 0, 1, 0, 1, 0, 1, 0, 1, 0, 1, 0, 1, 0, 1, 0, 1, 0, 1, 0, 1, 0, 1, 0, 1, 0, 1, 0, 1, 0, 1]\n"
     ]
    },
    {
     "data": {
      "text/html": [
       "<div>\n",
       "<style scoped>\n",
       "    .dataframe tbody tr th:only-of-type {\n",
       "        vertical-align: middle;\n",
       "    }\n",
       "\n",
       "    .dataframe tbody tr th {\n",
       "        vertical-align: top;\n",
       "    }\n",
       "\n",
       "    .dataframe thead th {\n",
       "        text-align: right;\n",
       "    }\n",
       "</style>\n",
       "<table border=\"1\" class=\"dataframe\">\n",
       "  <thead>\n",
       "    <tr style=\"text-align: right;\">\n",
       "      <th></th>\n",
       "      <th>0</th>\n",
       "      <th>1</th>\n",
       "      <th>2</th>\n",
       "      <th>3</th>\n",
       "      <th>4</th>\n",
       "      <th>5</th>\n",
       "      <th>6</th>\n",
       "    </tr>\n",
       "  </thead>\n",
       "  <tbody>\n",
       "    <tr>\n",
       "      <th>0</th>\n",
       "      <td>1615566511.420</td>\n",
       "      <td>-0.403</td>\n",
       "      <td>0.693</td>\n",
       "      <td>0.304</td>\n",
       "      <td>-0.177</td>\n",
       "      <td>-0.524</td>\n",
       "      <td>1</td>\n",
       "    </tr>\n",
       "    <tr>\n",
       "      <th>1</th>\n",
       "      <td>1615566575.040</td>\n",
       "      <td>-0.477</td>\n",
       "      <td>0.689</td>\n",
       "      <td>0.286</td>\n",
       "      <td>-0.177</td>\n",
       "      <td>-0.524</td>\n",
       "      <td>0</td>\n",
       "    </tr>\n",
       "    <tr>\n",
       "      <th>2</th>\n",
       "      <td>1615566591.520</td>\n",
       "      <td>-0.486</td>\n",
       "      <td>0.660</td>\n",
       "      <td>0.339</td>\n",
       "      <td>-0.177</td>\n",
       "      <td>-0.524</td>\n",
       "      <td>1</td>\n",
       "    </tr>\n",
       "    <tr>\n",
       "      <th>3</th>\n",
       "      <td>1615566654.670</td>\n",
       "      <td>-0.436</td>\n",
       "      <td>0.699</td>\n",
       "      <td>0.326</td>\n",
       "      <td>-0.177</td>\n",
       "      <td>-0.524</td>\n",
       "      <td>0</td>\n",
       "    </tr>\n",
       "    <tr>\n",
       "      <th>4</th>\n",
       "      <td>1615566660.580</td>\n",
       "      <td>-0.432</td>\n",
       "      <td>0.723</td>\n",
       "      <td>0.291</td>\n",
       "      <td>-0.177</td>\n",
       "      <td>-0.524</td>\n",
       "      <td>1</td>\n",
       "    </tr>\n",
       "  </tbody>\n",
       "</table>\n",
       "</div>"
      ],
      "text/plain": [
       "               0      1     2     3      4      5  6\n",
       "0 1615566511.420 -0.403 0.693 0.304 -0.177 -0.524  1\n",
       "1 1615566575.040 -0.477 0.689 0.286 -0.177 -0.524  0\n",
       "2 1615566591.520 -0.486 0.660 0.339 -0.177 -0.524  1\n",
       "3 1615566654.670 -0.436 0.699 0.326 -0.177 -0.524  0\n",
       "4 1615566660.580 -0.432 0.723 0.291 -0.177 -0.524  1"
      ]
     },
     "execution_count": 193,
     "metadata": {},
     "output_type": "execute_result"
    }
   ],
   "source": [
    "visibility=[]\n",
    "for i in FS03_beacon.index:\n",
    "    #print(i)\n",
    "    if(i % 2 == 0):\n",
    "        visibility.append(1)\n",
    "    else:\n",
    "        visibility.append(0)\n",
    "print(visibility)\n",
    "FS03_beacon[6]=visibility\n",
    "FS03_beacon.head()"
   ]
  },
  {
   "cell_type": "code",
   "execution_count": 195,
   "metadata": {},
   "outputs": [
    {
     "name": "stdout",
     "output_type": "stream",
     "text": [
      "1615566694.1\n",
      "1615566894.46\n",
      "1615567446.89\n",
      "1615567680.72\n",
      "1615568260.29\n"
     ]
    },
    {
     "name": "stderr",
     "output_type": "stream",
     "text": [
      "D:\\Software\\anaconda\\lib\\site-packages\\ipykernel_launcher.py:7: SettingWithCopyWarning: \n",
      "A value is trying to be set on a copy of a slice from a DataFrame\n",
      "\n",
      "See the caveats in the documentation: http://pandas.pydata.org/pandas-docs/stable/indexing.html#indexing-view-versus-copy\n",
      "  import sys\n"
     ]
    },
    {
     "data": {
      "text/plain": [
       "[5, 11, 27, 33, 47]"
      ]
     },
     "execution_count": 195,
     "metadata": {},
     "output_type": "execute_result"
    }
   ],
   "source": [
    "invis=[]\n",
    "#for ind in FS03_beacon.index:\n",
    "df = FS03_beacon[0].diff().to_frame()\n",
    "for ind in df.index:\n",
    "    if df[0][ind]<60 and not (ind % 2 == 0):\n",
    "        invis.append(ind)\n",
    "        FS03_beacon[6][ind]=2\n",
    "        print(FS03_beacon[0][ind])\n",
    "        \n",
    "invis\n"
   ]
  },
  {
   "cell_type": "code",
   "execution_count": 198,
   "metadata": {},
   "outputs": [
    {
     "data": {
      "text/html": [
       "<div>\n",
       "<style scoped>\n",
       "    .dataframe tbody tr th:only-of-type {\n",
       "        vertical-align: middle;\n",
       "    }\n",
       "\n",
       "    .dataframe tbody tr th {\n",
       "        vertical-align: top;\n",
       "    }\n",
       "\n",
       "    .dataframe thead th {\n",
       "        text-align: right;\n",
       "    }\n",
       "</style>\n",
       "<table border=\"1\" class=\"dataframe\">\n",
       "  <thead>\n",
       "    <tr style=\"text-align: right;\">\n",
       "      <th></th>\n",
       "      <th>0</th>\n",
       "      <th>1</th>\n",
       "      <th>2</th>\n",
       "      <th>3</th>\n",
       "      <th>4</th>\n",
       "      <th>5</th>\n",
       "      <th>6</th>\n",
       "    </tr>\n",
       "  </thead>\n",
       "  <tbody>\n",
       "    <tr>\n",
       "      <th>0</th>\n",
       "      <td>1615566511.420</td>\n",
       "      <td>-0.403</td>\n",
       "      <td>0.693</td>\n",
       "      <td>0.304</td>\n",
       "      <td>-0.177</td>\n",
       "      <td>-0.524</td>\n",
       "      <td>1</td>\n",
       "    </tr>\n",
       "    <tr>\n",
       "      <th>1</th>\n",
       "      <td>1615566575.040</td>\n",
       "      <td>-0.477</td>\n",
       "      <td>0.689</td>\n",
       "      <td>0.286</td>\n",
       "      <td>-0.177</td>\n",
       "      <td>-0.524</td>\n",
       "      <td>0</td>\n",
       "    </tr>\n",
       "    <tr>\n",
       "      <th>2</th>\n",
       "      <td>1615566591.520</td>\n",
       "      <td>-0.486</td>\n",
       "      <td>0.660</td>\n",
       "      <td>0.339</td>\n",
       "      <td>-0.177</td>\n",
       "      <td>-0.524</td>\n",
       "      <td>1</td>\n",
       "    </tr>\n",
       "    <tr>\n",
       "      <th>3</th>\n",
       "      <td>1615566654.670</td>\n",
       "      <td>-0.436</td>\n",
       "      <td>0.699</td>\n",
       "      <td>0.326</td>\n",
       "      <td>-0.177</td>\n",
       "      <td>-0.524</td>\n",
       "      <td>0</td>\n",
       "    </tr>\n",
       "    <tr>\n",
       "      <th>4</th>\n",
       "      <td>1615566660.580</td>\n",
       "      <td>-0.432</td>\n",
       "      <td>0.723</td>\n",
       "      <td>0.291</td>\n",
       "      <td>-0.177</td>\n",
       "      <td>-0.524</td>\n",
       "      <td>1</td>\n",
       "    </tr>\n",
       "    <tr>\n",
       "      <th>5</th>\n",
       "      <td>1615566694.100</td>\n",
       "      <td>-0.451</td>\n",
       "      <td>0.713</td>\n",
       "      <td>0.367</td>\n",
       "      <td>-0.177</td>\n",
       "      <td>-0.524</td>\n",
       "      <td>2</td>\n",
       "    </tr>\n",
       "    <tr>\n",
       "      <th>6</th>\n",
       "      <td>1615566699.110</td>\n",
       "      <td>-0.424</td>\n",
       "      <td>0.694</td>\n",
       "      <td>0.267</td>\n",
       "      <td>-0.177</td>\n",
       "      <td>-0.524</td>\n",
       "      <td>1</td>\n",
       "    </tr>\n",
       "    <tr>\n",
       "      <th>7</th>\n",
       "      <td>1615566761.100</td>\n",
       "      <td>-0.441</td>\n",
       "      <td>0.697</td>\n",
       "      <td>0.272</td>\n",
       "      <td>-0.177</td>\n",
       "      <td>-0.524</td>\n",
       "      <td>0</td>\n",
       "    </tr>\n",
       "    <tr>\n",
       "      <th>8</th>\n",
       "      <td>1615566770.400</td>\n",
       "      <td>-0.480</td>\n",
       "      <td>0.689</td>\n",
       "      <td>0.324</td>\n",
       "      <td>-0.177</td>\n",
       "      <td>-0.524</td>\n",
       "      <td>1</td>\n",
       "    </tr>\n",
       "    <tr>\n",
       "      <th>9</th>\n",
       "      <td>1615566833.340</td>\n",
       "      <td>-0.449</td>\n",
       "      <td>0.693</td>\n",
       "      <td>0.280</td>\n",
       "      <td>-0.177</td>\n",
       "      <td>-0.524</td>\n",
       "      <td>0</td>\n",
       "    </tr>\n",
       "  </tbody>\n",
       "</table>\n",
       "</div>"
      ],
      "text/plain": [
       "               0      1     2     3      4      5  6\n",
       "0 1615566511.420 -0.403 0.693 0.304 -0.177 -0.524  1\n",
       "1 1615566575.040 -0.477 0.689 0.286 -0.177 -0.524  0\n",
       "2 1615566591.520 -0.486 0.660 0.339 -0.177 -0.524  1\n",
       "3 1615566654.670 -0.436 0.699 0.326 -0.177 -0.524  0\n",
       "4 1615566660.580 -0.432 0.723 0.291 -0.177 -0.524  1\n",
       "5 1615566694.100 -0.451 0.713 0.367 -0.177 -0.524  2\n",
       "6 1615566699.110 -0.424 0.694 0.267 -0.177 -0.524  1\n",
       "7 1615566761.100 -0.441 0.697 0.272 -0.177 -0.524  0\n",
       "8 1615566770.400 -0.480 0.689 0.324 -0.177 -0.524  1\n",
       "9 1615566833.340 -0.449 0.693 0.280 -0.177 -0.524  0"
      ]
     },
     "execution_count": 198,
     "metadata": {},
     "output_type": "execute_result"
    }
   ],
   "source": [
    "FS03_beacon.head(10)"
   ]
  },
  {
   "cell_type": "markdown",
   "metadata": {},
   "source": [
    "### Match it with index in position files"
   ]
  },
  {
   "cell_type": "code",
   "execution_count": 21,
   "metadata": {},
   "outputs": [
    {
     "data": {
      "text/plain": [
       "[11402, 23433, 56610, 70657, 105457]"
      ]
     },
     "execution_count": 21,
     "metadata": {},
     "output_type": "execute_result"
    }
   ],
   "source": [
    "pos_index=[]\n",
    "invis=[]\n",
    "#for ind in FS03_beacon.index:\n",
    "df = FS03_beacon[0].diff().to_frame()\n",
    "for ind in df.index:\n",
    "    if df[0][ind]<60 and not (ind % 2 == 0):\n",
    "        invis.append(ind)\n",
    "        #print(FS03_beacon[0][ind])\n",
    "        k = FS03_position.iloc[(FS03_position[0] - FS03_beacon[0][ind]).abs().argsort()[:1]]\n",
    "        #print(list(k.index))\n",
    "        #print(FS03_position[0][list(k.index)])\n",
    "        pos_index.append(int(''.join(map(str,list(k.index)))))\n",
    "invis\n",
    "pos_index"
   ]
  },
  {
   "cell_type": "markdown",
   "metadata": {},
   "source": [
    "### Match it with height periods to create beacons invisible only "
   ]
  },
  {
   "cell_type": "code",
   "execution_count": 23,
   "metadata": {},
   "outputs": [
    {
     "data": {
      "text/plain": [
       "[11, 23, 59, 77, 100]"
      ]
     },
     "execution_count": 23,
     "metadata": {},
     "output_type": "execute_result"
    }
   ],
   "source": [
    "pos_index=[]\n",
    "invis=[]\n",
    "#for ind in FS03_beacon.index:\n",
    "df = FS03_beacon[0].diff().to_frame()\n",
    "for ind in df.index:\n",
    "    if df[0][ind]<60 and not (ind % 2 == 0):\n",
    "        invis.append(ind)\n",
    "        #print(FS03_beacon[0][ind])\n",
    "        k = Z_points.iloc[(Z_points[0] - FS03_beacon[0][ind]).abs().argsort()[:1]]\n",
    "        #print(list(k.index))\n",
    "        #print(FS03_position[0][list(k.index)])\n",
    "        pos_index.append(int(''.join(map(str,list(k.index)))))\n",
    "invis\n",
    "pos_index"
   ]
  },
  {
   "cell_type": "markdown",
   "metadata": {},
   "source": [
    "### Create histogram of how far away from beacon when reared for all first  need to subtract differetn beacon location each time "
   ]
  },
  {
   "cell_type": "code",
   "execution_count": 25,
   "metadata": {},
   "outputs": [],
   "source": [
    "def calculate_Distance(x,y): \n",
    "        \"\"\"Calculates distance given position\"\"\"\n",
    "        travel=0\n",
    "        for i in range(len(y)-1):\n",
    "            dist = math.sqrt((x[0+i] - x[1+i])**2 + (y[0+i] - y[1+i])**2)\n",
    "            travel+=dist\n",
    "\n",
    "        return travel "
   ]
  },
  {
   "cell_type": "markdown",
   "metadata": {},
   "source": [
    "### Normalize position with respect to the beacon "
   ]
  },
  {
   "cell_type": "code",
   "execution_count": 27,
   "metadata": {},
   "outputs": [
    {
     "name": "stdout",
     "output_type": "stream",
     "text": [
      "-0.27999999999999997 -0.8410000000000001\n"
     ]
    }
   ],
   "source": [
    "x_max, x_min = 0.2, -0.76\n",
    "x_offset = x_max - (x_max - x_min)/2\n",
    "y_max, y_min = 0.072,  -1.754\n",
    "y_offset = y_max - (y_max - y_min)/2\n",
    "print(x_offset,y_offset)"
   ]
  },
  {
   "cell_type": "code",
   "execution_count": 36,
   "metadata": {},
   "outputs": [],
   "source": [
    "Z_points[1]= Z_points[1]-x_offset\n",
    "Z_points[2]= Z_points[2]+y_offset\n"
   ]
  },
  {
   "cell_type": "code",
   "execution_count": 38,
   "metadata": {},
   "outputs": [
    {
     "data": {
      "text/plain": [
       "[<matplotlib.lines.Line2D at 0x5e6cba8>]"
      ]
     },
     "execution_count": 38,
     "metadata": {},
     "output_type": "execute_result"
    },
    {
     "data": {
      "image/png": "[encoded data removed]",
      "text/plain": [
       "<Figure size 432x288 with 1 Axes>"
      ]
     },
     "metadata": {
      "needs_background": "light"
     },
     "output_type": "display_data"
    }
   ],
   "source": [
    "plt.plot(Z_points[1],Z_points[2],'yo',ms=10)\n",
    "plt.plot(FS03_beacon[4],FS03_beacon[5],'g+')\n",
    "\n"
   ]
  },
  {
   "cell_type": "code",
   "execution_count": null,
   "metadata": {},
   "outputs": [],
   "source": []
  },
  {
   "cell_type": "code",
   "execution_count": 48,
   "metadata": {},
   "outputs": [
    {
     "data": {
      "text/plain": [
       "[0.054686372512113925,\n",
       " 0.07090674517663637,\n",
       " 0.4032691305294873,\n",
       " 0.08690635853454691,\n",
       " 0.054712324433537934,\n",
       " 0.039090946712403894,\n",
       " 0.10536484623121414,\n",
       " 0.16137573076864206,\n",
       " 0.07523587011140784]"
      ]
     },
     "execution_count": 48,
     "metadata": {},
     "output_type": "execute_result"
    }
   ],
   "source": [
    "def get_rear_distance_from_beacon(rears, beacon):\n",
    "    dist=[]\n",
    "    for i in range(9):\n",
    "        dist.append(math.sqrt((rears[1][0+i] - beacon[4][1+i])**2 + (rears[2][0+i] - beacon[5][1+i])**2))\n",
    "\n",
    "    return dist \n",
    "get_rear_distance_from_beacon(Z_points,FS03_beacon)"
   ]
  },
  {
   "cell_type": "code",
   "execution_count": 50,
   "metadata": {},
   "outputs": [
    {
     "data": {
      "text/plain": [
       "(array([5., 2., 0., 1., 0., 0., 0., 0., 0., 1.]),\n",
       " array([0.03909095, 0.07550877, 0.11192658, 0.1483444 , 0.18476222,\n",
       "        0.22118004, 0.25759786, 0.29401568, 0.33043349, 0.36685131,\n",
       "        0.40326913]),\n",
       " <a list of 10 Patch objects>)"
      ]
     },
     "execution_count": 50,
     "metadata": {},
     "output_type": "execute_result"
    },
    {
     "data": {
      "image/png": "[encoded data removed]",
      "text/plain": [
       "<Figure size 432x288 with 1 Axes>"
      ]
     },
     "metadata": {
      "needs_background": "light"
     },
     "output_type": "display_data"
    }
   ],
   "source": [
    "plt.hist(get_rear_distance_from_beacon(Z_points,FS03_beacon),)"
   ]
  },
  {
   "cell_type": "markdown",
   "metadata": {},
   "source": [
    "### Maybe need to make a matching data frame first - "
   ]
  },
  {
   "cell_type": "code",
   "execution_count": 166,
   "metadata": {},
   "outputs": [
    {
     "data": {
      "text/plain": [
       "(array([63., 17.,  8.,  4.,  2.,  1.,  1.,  3.,  1.,  2.]),\n",
       " array([0.01336182, 0.13173344, 0.25010506, 0.36847669, 0.48684831,\n",
       "        0.60521993, 0.72359155, 0.84196318, 0.9603348 , 1.07870642,\n",
       "        1.19707804]),\n",
       " <a list of 10 Patch objects>)"
      ]
     },
     "execution_count": 166,
     "metadata": {},
     "output_type": "execute_result"
    },
    {
     "data": {
      "image/png": "[encoded data removed]",
      "text/plain": [
       "<Figure size 432x288 with 1 Axes>"
      ]
     },
     "metadata": {
      "needs_background": "light"
     },
     "output_type": "display_data"
    }
   ],
   "source": [
    "def get_rear_distance_from_beacon(df_rears_corrected):\n",
    "    dist=[]\n",
    "    for row in df_rears_corrected.iterrows():\n",
    "        #print(row[1][1])\n",
    "        #print(row[1][4])\n",
    "        #print(row[1][2])\n",
    "        #print(row[1][5])\n",
    "        dist.append(math.sqrt((row[1][1] - row[1][4])**2 + (row[1][2] - row[1][5])**2))\n",
    "\n",
    "    return dist \n",
    "plt.hist(get_rear_distance_from_beacon(df_rears_corrected))"
   ]
  },
  {
   "cell_type": "markdown",
   "metadata": {},
   "source": [
    "### Histogram for only invisible "
   ]
  },
  {
   "cell_type": "code",
   "execution_count": 204,
   "metadata": {},
   "outputs": [
    {
     "data": {
      "text/plain": [
       "(array([3., 1., 0., 0., 0., 0., 0., 0., 0., 1.]),\n",
       " array([0.07109194, 0.17506591, 0.27903988, 0.38301385, 0.48698782,\n",
       "        0.59096179, 0.69493576, 0.79890973, 0.90288369, 1.00685766,\n",
       "        1.11083163]),\n",
       " <a list of 10 Patch objects>)"
      ]
     },
     "execution_count": 204,
     "metadata": {},
     "output_type": "execute_result"
    },
    {
     "data": {
      "image/png": "[encoded data removed]",
      "text/plain": [
       "<Figure size 432x288 with 1 Axes>"
      ]
     },
     "metadata": {
      "needs_background": "light"
     },
     "output_type": "display_data"
    }
   ],
   "source": [
    "plt.hist(get_rear_distance_from_beacon(df_rears_corrected.loc[df_rears_corrected[6]==2]))"
   ]
  },
  {
   "cell_type": "code",
   "execution_count": 11,
   "metadata": {},
   "outputs": [
    {
     "data": {
      "image/png": "[encoded data removed]",
      "text/plain": [
       "<Figure size 432x288 with 1 Axes>"
      ]
     },
     "metadata": {
      "needs_background": "light"
     },
     "output_type": "display_data"
    },
    {
     "name": "stdout",
     "output_type": "stream",
     "text": [
      "areas: -0.9939999999999999\n"
     ]
    }
   ],
   "source": [
    "cut=0\n",
    "#rotation_correction_points(Z_points)\n",
    "Z_points.plot.scatter(x=1, y=2)\n",
    "#plt.plot(rot_position_data[1],rot_position_data[3])\n",
    "plt.plot([(X_cut_min+cut),(X_cut_max-cut)],[(Y_cut_max-cut),(Y_cut_max-cut)] ,'r-')\n",
    "plt.plot([(X_cut_min+cut),(X_cut_min+cut)],[(Y_cut_min+cut),(Y_cut_max-cut)] ,'r-')\n",
    "plt.plot([(X_cut_max-cut),(X_cut_max-cut)],[(Y_cut_min+cut),(Y_cut_max-cut)] ,'r-')\n",
    "plt.plot([(X_cut_max-cut),(X_cut_min+cut)],[(Y_cut_min+cut),(Y_cut_min+cut)] ,'r-')\n",
    "plt.plot()\n",
    "plt.savefig('%srears_cut.png' %(figures), dpi = 200) \n",
    "plt.show()\n",
    "print ('areas: %s' %((X_cut_min-X_cut_max)*(Y_cut_max-Y_cut_min))) "
   ]
  },
  {
   "cell_type": "markdown",
   "metadata": {},
   "source": [
    "# GRAVEYARD`"
   ]
  },
  {
   "cell_type": "markdown",
   "metadata": {},
   "source": [
    "## Try to catch so that it is the smallest value int the beacon "
   ]
  },
  {
   "cell_type": "code",
   "execution_count": null,
   "metadata": {},
   "outputs": [],
   "source": [
    "df_rears = Z_points\n",
    "Xs=[]\n",
    "Ys=[]\n",
    "for row in Z_points.iterrows():\n",
    "    #print(row[1][0])\n",
    "\n",
    "    k = FS03_beacon.iloc[(FS03_beacon[0] - row[1][0]).abs().argsort()[:1]]\n",
    "    #print(k.values[0][4])\n",
    "    \n",
    "\n",
    "    timept = k.values[0][0]\n",
    "    while timept > row[1][0] and k.index>0:\n",
    "        \n",
    "        timept = k.values[0][0]\n",
    "        k_idx = k.index\n",
    "        k = FS03_beacon.iloc[k_idx-1] \n",
    "        \n",
    "    Xs.append(k.values[0][4])\n",
    "    Ys.append(k.values[0][5])\n",
    "\n",
    "\n",
    "    #print(FS03_position[0][list(k.index)])\n",
    "    #pos_index.append(int(''.join(map(str,list(k.index)))))\n",
    "df_rears[4]=Xs\n",
    "df_rears[5]=Ys\n",
    "#df_rears"
   ]
  }
 ],
 "metadata": {
  "kernelspec": {
   "display_name": "Python 3",
   "language": "python",
   "name": "python3"
  },
  "language_info": {
   "codemirror_mode": {
    "name": "ipython",
    "version": 3
   },
   "file_extension": ".py",
   "mimetype": "text/x-python",
   "name": "python",
   "nbconvert_exporter": "python",
   "pygments_lexer": "ipython3",
   "version": "3.7.3"
  }
 },
 "nbformat": 4,
 "nbformat_minor": 2
}
