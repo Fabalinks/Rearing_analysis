{
 "cells": [
  {
   "cell_type": "markdown",
   "metadata": {},
   "source": [
    "### This script should take a folder direcotry - look for positions files and beacon file if present and combine them together into a signle txt file , basically adding beacon location with frame numbers of events  making a simple 30-60 line document describing the events "
   ]
  },
  {
   "cell_type": "code",
   "execution_count": null,
   "metadata": {},
   "outputs": [],
   "source": []
  },
  {
   "cell_type": "markdown",
   "metadata": {},
   "source": [
    "### 1. do it on a simple copied example \n"
   ]
  },
  {
   "cell_type": "code",
   "execution_count": 2,
   "metadata": {},
   "outputs": [],
   "source": [
    "import pandas as pd\n",
    "import numpy as np"
   ]
  },
  {
   "cell_type": "code",
   "execution_count": 3,
   "metadata": {},
   "outputs": [],
   "source": [
    "positions_name = 'C:/Users/Fabian/Desktop/Analysis/Round3_FS03_FS06/Data/BPositions_FS4_20210322-202458/position_20210322-202458.txt'\n",
    "beacons_name = 'C:/Users/Fabian/Desktop/Analysis/Round3_FS03_FS06/Data/BPositions_FS4_20210322-202458/beacons_20210322-202458.txt'"
   ]
  },
  {
   "cell_type": "code",
   "execution_count": 4,
   "metadata": {},
   "outputs": [],
   "source": [
    "positions = pd.read_csv(positions_name,sep=\" \", header=None)\n",
    "beacons  = pd.read_csv(beacons_name,sep=\" \", header = None)"
   ]
  },
  {
   "cell_type": "code",
   "execution_count": 5,
   "metadata": {},
   "outputs": [],
   "source": [
    "frame_list = []\n",
    "for index, row in beacons.iterrows():\n",
    "    k = positions.iloc[(positions[0]-beacons[0][index]).abs().argsort()[:1]]\n",
    "    frame_list.append(int(''.join(map(str,list(k[7])))))\n",
    "#add frame\n",
    "beacons[\"Frame\"] = frame_list\n",
    "    \n"
   ]
  },
  {
   "cell_type": "code",
   "execution_count": 6,
   "metadata": {},
   "outputs": [],
   "source": [
    "beacons.columns=[\"Time\", \"RatX\",\"RatY\", \"RatZ\",\"BeaconX\", \"BeaconY\",\"Frame\" ]"
   ]
  },
  {
   "cell_type": "code",
   "execution_count": 7,
   "metadata": {},
   "outputs": [
    {
     "data": {
      "text/html": [
       "<div>\n",
       "<style scoped>\n",
       "    .dataframe tbody tr th:only-of-type {\n",
       "        vertical-align: middle;\n",
       "    }\n",
       "\n",
       "    .dataframe tbody tr th {\n",
       "        vertical-align: top;\n",
       "    }\n",
       "\n",
       "    .dataframe thead th {\n",
       "        text-align: right;\n",
       "    }\n",
       "</style>\n",
       "<table border=\"1\" class=\"dataframe\">\n",
       "  <thead>\n",
       "    <tr style=\"text-align: right;\">\n",
       "      <th></th>\n",
       "      <th>Time</th>\n",
       "      <th>RatX</th>\n",
       "      <th>RatY</th>\n",
       "      <th>RatZ</th>\n",
       "      <th>BeaconX</th>\n",
       "      <th>BeaconY</th>\n",
       "      <th>Frame</th>\n",
       "    </tr>\n",
       "  </thead>\n",
       "  <tbody>\n",
       "    <tr>\n",
       "      <th>0</th>\n",
       "      <td>1.616441e+09</td>\n",
       "      <td>-0.437445</td>\n",
       "      <td>0.717387</td>\n",
       "      <td>0.213714</td>\n",
       "      <td>-0.177449</td>\n",
       "      <td>-0.524226</td>\n",
       "      <td>38218</td>\n",
       "    </tr>\n",
       "    <tr>\n",
       "      <th>1</th>\n",
       "      <td>1.616441e+09</td>\n",
       "      <td>-0.363638</td>\n",
       "      <td>0.704099</td>\n",
       "      <td>0.382567</td>\n",
       "      <td>-0.177449</td>\n",
       "      <td>-0.524226</td>\n",
       "      <td>48157</td>\n",
       "    </tr>\n",
       "    <tr>\n",
       "      <th>2</th>\n",
       "      <td>1.616441e+09</td>\n",
       "      <td>-0.418684</td>\n",
       "      <td>0.684232</td>\n",
       "      <td>0.290956</td>\n",
       "      <td>-0.177449</td>\n",
       "      <td>-0.524226</td>\n",
       "      <td>48398</td>\n",
       "    </tr>\n",
       "    <tr>\n",
       "      <th>3</th>\n",
       "      <td>1.616442e+09</td>\n",
       "      <td>-0.378889</td>\n",
       "      <td>0.664046</td>\n",
       "      <td>0.418931</td>\n",
       "      <td>-0.177449</td>\n",
       "      <td>-0.524226</td>\n",
       "      <td>56946</td>\n",
       "    </tr>\n",
       "    <tr>\n",
       "      <th>4</th>\n",
       "      <td>1.616442e+09</td>\n",
       "      <td>-0.430110</td>\n",
       "      <td>0.688827</td>\n",
       "      <td>0.117789</td>\n",
       "      <td>-0.177449</td>\n",
       "      <td>-0.524226</td>\n",
       "      <td>63760</td>\n",
       "    </tr>\n",
       "  </tbody>\n",
       "</table>\n",
       "</div>"
      ],
      "text/plain": [
       "           Time      RatX      RatY      RatZ   BeaconX   BeaconY  Frame\n",
       "0  1.616441e+09 -0.437445  0.717387  0.213714 -0.177449 -0.524226  38218\n",
       "1  1.616441e+09 -0.363638  0.704099  0.382567 -0.177449 -0.524226  48157\n",
       "2  1.616441e+09 -0.418684  0.684232  0.290956 -0.177449 -0.524226  48398\n",
       "3  1.616442e+09 -0.378889  0.664046  0.418931 -0.177449 -0.524226  56946\n",
       "4  1.616442e+09 -0.430110  0.688827  0.117789 -0.177449 -0.524226  63760"
      ]
     },
     "execution_count": 7,
     "metadata": {},
     "output_type": "execute_result"
    }
   ],
   "source": [
    "beacons.head()"
   ]
  },
  {
   "cell_type": "code",
   "execution_count": 240,
   "metadata": {},
   "outputs": [
    {
     "name": "stdout",
     "output_type": "stream",
     "text": [
      "DataFrame is written successfully to Excel File.\n"
     ]
    }
   ],
   "source": [
    "writer = pd.ExcelWriter('C:/Users/Fabian/Desktop/Analysis/Round3_FS03_FS06/Data/FS04-20210322-202458.evt.xlsx')\n",
    "# write dataframe to excel\n",
    "beacons.to_excel(writer)\n",
    "# save the excel\n",
    "writer.save()\n",
    "print('DataFrame is written successfully to Excel File.')"
   ]
  },
  {
   "cell_type": "markdown",
   "metadata": {},
   "source": [
    "## 5.All in one cell\n"
   ]
  },
  {
   "cell_type": "code",
   "execution_count": 105,
   "metadata": {},
   "outputs": [
    {
     "name": "stdout",
     "output_type": "stream",
     "text": [
      "            Time      RatX      RatY      RatZ   BeaconX   BeaconY   Frame\n",
      "0   1.616441e+09 -0.437445  0.717387  0.213714 -0.177449 -0.524226   38218\n",
      "1   1.616441e+09 -0.363638  0.704099  0.382567 -0.177449 -0.524226   48157\n",
      "2   1.616441e+09 -0.418684  0.684232  0.290956 -0.177449 -0.524226   48398\n",
      "3   1.616442e+09 -0.378889  0.664046  0.418931 -0.177449 -0.524226   56946\n",
      "4   1.616442e+09 -0.430110  0.688827  0.117789 -0.177449 -0.524226   63760\n",
      "5   1.616442e+09 -0.446298  0.676145  0.217460 -0.177449 -0.524226   64001\n",
      "6   1.616442e+09 -0.503857  0.654823  0.145129 -0.177449 -0.524226   65437\n",
      "7   1.616442e+09 -0.411902  0.553553  0.426247 -0.177449 -0.524226   72674\n",
      "8   1.616442e+09 -0.432936  0.548609  0.188073 -0.177449 -0.524226   73296\n",
      "9   1.616442e+09 -0.452401  0.704852  0.503399 -0.177449 -0.524226   82402\n",
      "10  1.616442e+09 -0.588515  0.667374  1.255409 -0.276678  0.596230   84835\n",
      "11  1.616442e+09 -0.590751  0.675885  1.587747 -0.276678  0.596230   92458\n",
      "12  1.616442e+09 -0.556470  0.695504  1.329731 -0.276678  0.596230   94445\n",
      "13  1.616442e+09 -0.545371  0.699506  1.552475 -0.276678  0.596230  102190\n",
      "14  1.616442e+09 -0.515406  0.717426  1.305420 -0.276678  0.596230  104420\n",
      "15  1.616442e+09 -0.548580  0.722541  1.573234 -0.276678  0.596230  112092\n",
      "16  1.616442e+09 -0.562980  0.677938  1.262273 -0.276678  0.596230  113137\n",
      "17  1.616442e+09 -0.533887  0.697715  1.577023 -0.276678  0.596230  120864\n",
      "18  1.616442e+09 -0.556767  0.679281  1.251583 -0.276678  0.596230  122417\n",
      "19  1.616442e+09 -0.500352  0.713097  1.595081 -0.276678  0.596230  130056\n",
      "20  1.616442e+09 -0.375571  0.696167  0.048703 -0.180916 -0.622325  131127\n",
      "21  1.616442e+09 -0.418369  0.659822  0.342570 -0.180916 -0.622325  139038\n",
      "22  1.616442e+09 -0.430339  0.707291  0.063005 -0.180916 -0.622325  141633\n",
      "23  1.616442e+09 -0.443243  0.519323  0.347247 -0.180916 -0.622325  145975\n",
      "24  1.616442e+09 -0.388131  0.664635  0.097022 -0.180916 -0.622325  147227\n",
      "25  1.616442e+09 -0.421745  0.708916  0.415260 -0.180916 -0.622325  154899\n",
      "26  1.616442e+09 -0.441687  0.711675  0.071534 -0.180916 -0.622325  157279\n",
      "27  1.616442e+09 -0.366173  0.702456  0.316898 -0.180916 -0.622325  164772\n",
      "28  1.616442e+09 -0.420711  0.697222  0.311074 -0.180916 -0.622325  165013\n",
      "29  1.616443e+09 -0.421303  0.719466  0.417718 -0.180916 -0.622325  172739\n",
      "30  1.616443e+09 -0.470280  0.715345  0.145634 -0.171735 -0.512953  174640\n",
      "31  1.616443e+09 -0.455868  0.693112  0.422967 -0.171735 -0.512953  182802\n",
      "32  1.616443e+09 -0.419684  0.709287  0.156316 -0.171735 -0.512953  186829\n",
      "33  1.616443e+09 -0.436587  0.657143  0.464341 -0.171735 -0.512953  194712\n",
      "34  1.616443e+09 -0.468071  0.673192  0.131436 -0.171735 -0.512953  196958\n",
      "35  1.616443e+09 -0.422765  0.676241  0.431114 -0.171735 -0.512953  205445\n",
      "36  1.616443e+09 -0.497388  0.649812  0.151574 -0.171735 -0.512953  209851\n",
      "37  1.616443e+09 -0.422130  0.686217  0.485552 -0.171735 -0.512953  218561\n",
      "DataFrame is written successfully to Excel File.\n"
     ]
    }
   ],
   "source": [
    "import pandas as pd\n",
    "import numpy as np\n",
    "positions_name = 'C:/Users/Fabian/Desktop/Analysis/Round3_FS03_FS06/Data/BPositions_FS4_20210322-202458/position_20210322-202458.txt'\n",
    "beacons_name = 'C:/Users/Fabian/Desktop/Analysis/Round3_FS03_FS06/Data/BPositions_FS4_20210322-202458/beacons_20210322-202458.txt'\n",
    "positions = pd.read_csv(positions_name,sep=\" \", header=None)\n",
    "beacons  = pd.read_csv(beacons_name,sep=\" \", header = None)\n",
    "frame_list = []\n",
    "for index, row in beacons.iterrows():\n",
    "    k = positions.iloc[(positions[0]-beacons[0][index]).abs().argsort()[:1]]\n",
    "    frame_list.append(int(''.join(map(str,list(k[7])))))\n",
    "#add frame\n",
    "beacons[\"Frame\"] = frame_list\n",
    "beacons.columns=[\"Time\", \"RatX\",\"RatY\", \"RatZ\",\"BeaconX\", \"BeaconY\",\"Frame\" ]\n",
    "print(beacons)\n",
    "beacons = beacons[[\"Frame\", \"RatX\", \"RatY\", \"RatZ\", \"BeaconX\", \"BeaconY\",\"Time\"]]\n",
    "#col = beacons.pop(\"Time\")\n",
    "#beacons.insert(6, col.name, col)\n",
    "writer = pd.ExcelWriter('C:/Users/Fabian/Desktop/Analysis/Round3_FS03_FS06/Data/events-FS04-20210322-202458.xlsx')\n",
    "beacons.to_excel(writer)\n",
    "writer.save()\n",
    "print('DataFrame is written successfully to Excel File.')\n",
    "    "
   ]
  },
  {
   "cell_type": "code",
   "execution_count": 73,
   "metadata": {},
   "outputs": [
    {
     "ename": "SyntaxError",
     "evalue": "invalid syntax (<ipython-input-73-67e23a25b053>, line 1)",
     "output_type": "error",
     "traceback": [
      "\u001b[1;36m  File \u001b[1;32m\"<ipython-input-73-67e23a25b053>\"\u001b[1;36m, line \u001b[1;32m1\u001b[0m\n\u001b[1;33m    To look for stuff:\u001b[0m\n\u001b[1;37m          ^\u001b[0m\n\u001b[1;31mSyntaxError\u001b[0m\u001b[1;31m:\u001b[0m invalid syntax\n"
     ]
    }
   ],
   "source": [
    "To look for stuff: \n",
    "    "
   ]
  },
  {
   "cell_type": "markdown",
   "metadata": {},
   "source": [
    "### renaming function \n"
   ]
  },
  {
   "cell_type": "code",
   "execution_count": 10,
   "metadata": {},
   "outputs": [
    {
     "data": {
      "text/plain": [
       "'FS04-20210217-104716'"
      ]
     },
     "execution_count": 10,
     "metadata": {},
     "output_type": "execute_result"
    }
   ],
   "source": [
    "file_name = 'position_20210217-104716.txt'\n",
    "def rename (file_name):\n",
    "    new = list(file_name)\n",
    "    new[0:9] = 'FS04-'\n",
    "    new[20:24]=''\n",
    "    \"\".join(new)\n",
    "    return \"\".join(new)\n",
    "rename (file_name)"
   ]
  },
  {
   "cell_type": "markdown",
   "metadata": {},
   "source": [
    "### Descrption of function \n",
    "Enter any file and folder in the raw/Animal \n",
    "If either position or beacon file present load them as a dataset and\n",
    "\n",
    "combine into an event file - making beacons[[\"Frame\", \"RatX\", \"RatY\", \"RatZ\", \"BeaconX\", \"BeaconY\",\"Time\"]]\n",
    "\n",
    "Also check if positions and beacons match time to avoid wrong datasets. \n",
    "\n",
    "Save the xlsx file into the parent directory - i.e. the HSW \n",
    "\n"
   ]
  },
  {
   "cell_type": "code",
   "execution_count": 11,
   "metadata": {},
   "outputs": [
    {
     "name": "stdout",
     "output_type": "stream",
     "text": [
      "Matched 0 files\n",
      "//10.153.170.3/storage2/fabian/data/tt/Day_149_0323\\BPositions_FS4_20210323-200748\n",
      "filename: HERE beacons_20210323-200748.txt\n",
      "//10.153.170.3/storage2/fabian/data/tt/Day_149_0323\\BPositions_FS4_20210323-200748\n",
      "beacons_20210323-200748.txt\n",
      " found!\n",
      "//10.153.170.3/storage2/fabian/data/tt/Day_149_0323\\BPositions_FS4_20210323-200748\n",
      "filename: HERE beacon_entry_20210323-200748.txt\n",
      "//10.153.170.3/storage2/fabian/data/tt/Day_149_0323\\BPositions_FS4_20210323-200748\n",
      "//10.153.170.3/storage2/fabian/data/tt/Day_149_0323\\BPositions_FS4_20210323-200748\n",
      "filename: HERE metadata_20210323-200748.txt\n",
      "//10.153.170.3/storage2/fabian/data/tt/Day_149_0323\\BPositions_FS4_20210323-200748\n",
      "//10.153.170.3/storage2/fabian/data/tt/Day_149_0323\\BPositions_FS4_20210323-200748\n",
      "filename: HERE position_20210323-200748.txt\n",
      "//10.153.170.3/storage2/fabian/data/tt/Day_149_0323\\BPositions_FS4_20210323-200748\n",
      "position_20210323-200748.txt\n",
      " found! \n",
      "Match found making event file\n",
      "              0         1         2         3         4          5         6  \\\n",
      "0  1.616526e+09 -0.332235  0.479782 -0.001208  1.272249 -40.051645  5.619168   \n",
      "1  1.616526e+09 -0.329226  0.476894 -0.002949  0.246910 -40.016126  3.646224   \n",
      "2  1.616526e+09 -0.328958  0.475735 -0.003470 -1.013210 -40.087379  2.763144   \n",
      "3  1.616526e+09 -0.327263  0.475691 -0.002827 -1.861566 -40.770896  2.776356   \n",
      "4  1.616526e+09 -0.325771  0.480118 -0.001615 -1.750942 -41.245726  5.736579   \n",
      "\n",
      "     7             8         9  \n",
      "0  721  1.403589e+07  0.900000  \n",
      "1  724  1.403589e+07  0.925000  \n",
      "2  725  1.403589e+07  0.933333  \n",
      "3  727  1.403589e+07  0.950000  \n",
      "4  729  1.403589e+07  0.966667  \n",
      "              0         1         2         3         4         5\n",
      "0  1.616526e+09 -0.470408  0.674108  0.320508 -0.177449 -0.524226\n",
      "1  1.616527e+09 -0.410086  0.714651  0.269015 -0.177449 -0.524226\n",
      "2  1.616527e+09 -0.415620  0.707332  0.243634 -0.177449 -0.524226\n",
      "3  1.616527e+09 -0.393639  0.683619  0.312178 -0.177449 -0.524226\n",
      "4  1.616527e+09 -0.459493  0.679798  0.241583 -0.177449 -0.524226\n",
      "//10.153.170.3/storage2/fabian/data/tt/Day_149_0323\\BPositions_FS4_20210323-200748/FS04-20210323-200748.xlsx\n",
      "//10.153.170.3/storage2/fabian/data/tt/Day_149_0323\n",
      "DataFrame is written successfully to Excel File.\n",
      "Matched 1 files\n"
     ]
    }
   ],
   "source": [
    "import os \n",
    "\n",
    "how_many= 0 \n",
    "\n",
    "substring = \"BPositions_\"\n",
    "position = \"position_2\"\n",
    "beacon = 'beacons'\n",
    "#animal = 'C:/Users/Fabian/Desktop/Analysis/Round3_FS03_FS06/Data/FS04/'\n",
    "animal = '//10.153.170.3/storage2/fabian/data/tt/Day_149_0323'\n",
    "#FS04= '//10.153.170.3/storage2/fabian/Data/raw/FS04'    \n",
    "\n",
    "for dirpath, dirnames, files in os.walk(animal, topdown=True):\n",
    "    fullstring = dirpath\n",
    "    for file_name in files:\n",
    "        #print(f'Found directory: {dirpath}')\n",
    "        print(dirpath)\n",
    "        print('filename: HERE '+file_name)\n",
    "        fullstring = dirpath\n",
    "        #dirpath = dirpath.replace(\"\\\",\"/\")\n",
    "        print(dirpath)\n",
    "        if beacon in file_name:\n",
    "            print(file_name)\n",
    "            print(\" found!\")\n",
    "            beacons  = pd.read_csv(dirpath+'/'+file_name,sep=\" \", header = None,engine='python')\n",
    "            beacon_date = list(file_name)\n",
    "        if position in file_name:\n",
    "            print(file_name)\n",
    "            print(\" found! \")\n",
    "            positions = pd.read_csv(dirpath+'/'+file_name,sep=\" \", header=None,engine='python')\n",
    "            positions_date= list(file_name)\n",
    "            if beacon_date[-9:]==positions_date[-9:]:\n",
    "                print (\"Match found making event file\")\n",
    "                how_many += 1\n",
    "                frame_list = []       \n",
    "                print (positions.head())\n",
    "                print (beacons.head())\n",
    "                for index, row in beacons.iterrows():\n",
    "                    k = positions.iloc[(positions[0]-beacons[0][index]).abs().argsort()[:1]]\n",
    "                    frame_list.append(int(''.join(map(str,list(k[7])))))\n",
    "                beacons[\"Frame\"] = frame_list\n",
    "                beacons.columns=[\"Time\", \"RatX\",\"RatY\", \"RatZ\",\"BeaconX\", \"BeaconY\",\"Frame\" ]\n",
    "                beacons = beacons[[\"Frame\", \"RatX\", \"RatY\", \"RatZ\", \"BeaconX\", \"BeaconY\",\"Time\"]]       \n",
    "                #file_name = file_name.replace('positions_', 'FS04-')\n",
    "                print(dirpath + '/'+ rename (file_name) +'.xlsx')\n",
    "                HSW_directory = dirpath.split(chr(92)+'B', 1)\n",
    "                print( HSW_directory[0])\n",
    "                writer = pd.ExcelWriter( HSW_directory[0] + '/'+ rename (file_name) +'.xlsx')\n",
    "                beacons.to_excel(writer)\n",
    "                writer.save()\n",
    "                print('DataFrame is written successfully to Excel File.')\n",
    "            else: \n",
    "                print('bad match')\n",
    "\n",
    "    print ('Matched %s files' %(how_many))"
   ]
  },
  {
   "cell_type": "code",
   "execution_count": 84,
   "metadata": {},
   "outputs": [
    {
     "name": "stdout",
     "output_type": "stream",
     "text": [
      "C:/Users/Fabian/Desktop/Analysis/Round3_FS03_FS06/Data/FS04\\BPositions_FS4_20210331-095408\n"
     ]
    }
   ],
   "source": [
    "dirpath = 'C:/Users/Fabian/Desktop/Analysis/Round3_FS03_FS06/Data/FS04\\BPositions_FS4_20210331-095408'\n",
    "print (dirpath)"
   ]
  },
  {
   "cell_type": "code",
   "execution_count": 94,
   "metadata": {},
   "outputs": [
    {
     "name": "stdout",
     "output_type": "stream",
     "text": [
      "C:/Users/Fabian/Desktop/Analysis/Round3_FS03_FS06/Data/FS04\n"
     ]
    }
   ],
   "source": [
    "split_string = dirpath.split(chr(92), 1)\n",
    "print(split_string[0])"
   ]
  },
  {
   "cell_type": "markdown",
   "metadata": {},
   "source": [
    "### Check if beacon = position "
   ]
  },
  {
   "cell_type": "code",
   "execution_count": null,
   "metadata": {},
   "outputs": [],
   "source": []
  }
 ],
 "metadata": {
  "kernelspec": {
   "display_name": "Python 3",
   "language": "python",
   "name": "python3"
  },
  "language_info": {
   "codemirror_mode": {
    "name": "ipython",
    "version": 3
   },
   "file_extension": ".py",
   "mimetype": "text/x-python",
   "name": "python",
   "nbconvert_exporter": "python",
   "pygments_lexer": "ipython3",
   "version": "3.7.3"
  }
 },
 "nbformat": 4,
 "nbformat_minor": 2
}
