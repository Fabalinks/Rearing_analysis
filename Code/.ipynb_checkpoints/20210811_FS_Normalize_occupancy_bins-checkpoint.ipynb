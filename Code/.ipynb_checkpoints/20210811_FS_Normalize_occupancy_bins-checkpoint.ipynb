{
 "cells": [
  {
   "cell_type": "markdown",
   "metadata": {},
   "source": [
    "### This script is designed to take an input of location of a beacon in X and Y coordinates and bin size of historgram. It knows already the size of the arena and will produce a histogram/ matrix of numbers for occupancy/area per each bin.\n"
   ]
  },
  {
   "cell_type": "code",
   "execution_count": null,
   "metadata": {},
   "outputs": [],
   "source": [
    "import matplotlib.pyplot as plt \n",
    "import numpy as np\n",
    "import matplotlib.patches as patches\n",
    "from PIL import Image\n",
    "import matplotlib.image as mpimg\n",
    "import pandas as pd\n",
    "import math\n",
    "from tqdm import tqdm_notebook as tqdm\n",
    "figures = 'C:/Users/Fabian/Desktop/Analysis/Round3_FS03_FS06/Figures/'\n",
    "processed= 'C:/Users/Fabian/Desktop/Analysis/Round3_FS03_FS06/processed/'"
   ]
  },
  {
   "cell_type": "markdown",
   "metadata": {},
   "source": [
    "### TODO: \n",
    "    1. DONE Figure out making normalization without saving picture each time.  \n",
    "    2. DONE For each change of beacon make a histogram and multiply by given normalization \n",
    "    3. DONE Make large array to produce for histogram making\n",
    "    4. DONE Make the units by nesity - pixels to area\n",
    "    5. DONE Save output of each - normalized visible/ normalized invisible/ normalized all. for each animal \n",
    "    6. DONE do bootstrapping on the data to get a real normalized distribution -repeated for up to 100 000 rears \n",
    "    7. Statistics to run significance.  - will need to add or divide by amount of rear attempts considered... sicne invisible gives much lower density as way fewer invisible attempts. could count density in 100 rears/ cm**2so only ddivide (hist/rear)*100 or just normalize the hist when comparign to each other.... "
   ]
  },
  {
   "cell_type": "markdown",
   "metadata": {},
   "source": [
    "### 1. input arena size"
   ]
  },
  {
   "cell_type": "code",
   "execution_count": null,
   "metadata": {},
   "outputs": [],
   "source": [
    "cut = 0 # keeping the cut where rectangle of arena ends\n",
    "X_cut_min = -.59\n",
    "Y_cut_max = 1.61\n",
    "X_cut_max = .12\n",
    "Y_cut_min = .00\n",
    "print(\"area %s M*2\" %((X_cut_max-X_cut_min)*(Y_cut_max-Y_cut_min))) \n",
    "\n",
    "x_max, x_min = 0.12, -0.59\n",
    "x_offset = x_max - (x_max - x_min)/2\n",
    "y_max, y_min = 1.61,  0\n",
    "y_offset = y_max - (y_max - y_min)/2\n",
    "print(x_offset,y_offset)\n",
    "\n",
    "# to center the zero in... \n",
    "xcut_offset=-.24\n",
    "ycut_offset=-.8\n"
   ]
  },
  {
   "cell_type": "markdown",
   "metadata": {},
   "source": [
    "## Tried mathematical approach on paper but there were at least 4 other combination for which it would have to be calculated.So it is possible but would take too long to write the code hence decided to use the pictures that can be generated and estimated the pixels using different grayscale values "
   ]
  },
  {
   "cell_type": "code",
   "execution_count": null,
   "metadata": {},
   "outputs": [],
   "source": [
    "\n",
    "def visualization(center=(.1,-.4),X_cut_min = -.59 -xcut_offset,Y_cut_max = 1.61 + ycut_offset,X_cut_max = .12-xcut_offset,Y_cut_min = .00 +ycut_offset, ):\n",
    "    \"\"\"Makes a visual represetation of a banded rectangle with circles. to be exported and then can be counted\"\"\" \n",
    "    fig, ax1 = plt.subplots(1, 1, sharex=True,dpi=400,)\n",
    "    fig.suptitle(\"Normalization visual\")\n",
    "    ax1.plot(center[0],center[1],\"go\")\n",
    "    rectangle = patches.Rectangle((X_cut_min,Y_cut_min), (abs(X_cut_min)+abs(X_cut_max)),abs(Y_cut_min)+abs(Y_cut_max) , color=\"green\")\n",
    "    ax1.add_patch(rectangle)\n",
    "    color=iter(plt.cm.rainbow(np.linspace(0,1,10)))\n",
    "    for i in reversed(range(10)):\n",
    "        c=next(color)\n",
    "        patch = patches.Circle((center[0],center[1]), radius=.15*i,color=c)\n",
    "        ax1.add_patch(patch)\n",
    "        patch.set_clip_path(rectangle)                  \n",
    "    ax1.axis(\"equal\") \n",
    "    return plt.show()\n",
    "    \n",
    "visualization()\n"
   ]
  },
  {
   "cell_type": "code",
   "execution_count": null,
   "metadata": {},
   "outputs": [],
   "source": [
    "k=np.linspace(0,.99,20)\n",
    "k"
   ]
  },
  {
   "cell_type": "markdown",
   "metadata": {},
   "source": [
    "### Problem is that color can be defined as 0 - 1 value but the range for converted picture osi 0-246  for np.histogram is then 0-1 which makes it fairly inconsistent and results in multiplying small values, especially when not cutting the image and not considerign just 0th value - i.e pure white...  SOLVED = Usign 23 bins which is max in this arena - and igniring the first values of white just by indexing "
   ]
  },
  {
   "cell_type": "code",
   "execution_count": null,
   "metadata": {},
   "outputs": [],
   "source": [
    "\n",
    "def visualization_grey(center=(-.45,.4),dpi=500,X_cut_min = -.59,Y_cut_max = 1.61,X_cut_max = .12,Y_cut_min = .00,bands=20 ):\n",
    "    \"\"\"Makes a visual represetation of a banded rectangle with circles. to be exported and then can be counted\"\"\" \n",
    "    fig, ax1 = plt.subplots(1, 1, sharex=True,dpi=dpi,)\n",
    "    fig.patch.set_visible(False)\n",
    "    rectangle = patches.Rectangle((X_cut_min,Y_cut_min), (abs(X_cut_min)+abs(X_cut_max)),abs(Y_cut_min)+abs(Y_cut_max) , color=\"white\")\n",
    "    ax1.add_patch(rectangle)\n",
    "    color = np.linspace(0,.99,bands+1)\n",
    "    for i in reversed(range(20)):\n",
    "        c=color[i]\n",
    "        patch = patches.Circle((center[0],center[1]), radius=.075*i,color=str(c))\n",
    "        ax1.add_patch(patch)\n",
    "        patch.set_clip_path(rectangle)                  \n",
    "    ax1.axis(\"equal\")\n",
    "    ax1.axis(\"off\")\n",
    "    fig.savefig(figures + 'norm_graph.png', dpi=dpi, transparent=True)\n",
    "    img= Image.frombytes('RGB',fig.canvas.get_width_height(),fig.canvas.tostring_rgb())\n",
    "    image_array = np.asarray(img)\n",
    "    hist, bins = np.histogram(image_array,bins=bands,range=(0,249))\n",
    "    plt.show()\n",
    "    plt.hist(image_array.ravel(), bins=bands, range=(0,249))\n",
    "    width = 0.7 * (bins[1] - bins[0])\n",
    "    center = (bins[:-1] + bins[1:]) / 2\n",
    "    plt.bar(center, hist, align='center', width=width)\n",
    "    plt.show()\n",
    "    return hist,bins \n",
    "    \n",
    "hist,bins = visualization_grey()"
   ]
  },
  {
   "cell_type": "code",
   "execution_count": null,
   "metadata": {},
   "outputs": [],
   "source": [
    "hist,bins"
   ]
  },
  {
   "cell_type": "markdown",
   "metadata": {},
   "source": [
    "### Maximum amount of bands = "
   ]
  },
  {
   "cell_type": "code",
   "execution_count": null,
   "metadata": {},
   "outputs": [],
   "source": [
    "Y_cut_max/.075"
   ]
  },
  {
   "cell_type": "markdown",
   "metadata": {},
   "source": [
    "### Create a normalized histogram - 1. normalize hist by diving each by the sum, multiply then the hist by norm. - shoudl give normalized results.  Need to make sure to match the bin size of the area by the bin sizes used for histogram cut off.  Can also be made into density calculations by findout out are  of each pixel "
   ]
  },
  {
   "cell_type": "code",
   "execution_count": null,
   "metadata": {},
   "outputs": [],
   "source": [
    "x_max, x_min = 0.12, -0.59\n",
    "x_offset = x_max - (x_max - x_min)/2\n",
    "y_max, y_min = 1.61,  0\n",
    "y_offset = y_max - (y_max - y_min)/2\n",
    "print(x_offset,y_offset)\n",
    "\n",
    "# to center the zero in... \n",
    "xcut_offset=-.24\n",
    "ycut_offset=-.8\n",
    "cut=0"
   ]
  },
  {
   "cell_type": "code",
   "execution_count": null,
   "metadata": {},
   "outputs": [],
   "source": [
    "def Normalize (center=(.1,-.4),dpi=500,X_cut_min = -.59 -xcut_offset,Y_cut_max = 1.61 + ycut_offset,X_cut_max = .12-xcut_offset,Y_cut_min = .00 +ycut_offset,bands=23 ):\n",
    "    \"\"\"make visual count it by area then have hist values for normalization wih movement data\"\"\" \n",
    "    fig, ax1 = plt.subplots(1, 1, sharex=True,dpi=dpi,)\n",
    "    fig.patch.set_visible(False)\n",
    "    rectangle = patches.Rectangle((X_cut_min,Y_cut_min), (abs(X_cut_min)+abs(X_cut_max)),abs(Y_cut_min)+abs(Y_cut_max) , color=\"white\")\n",
    "    ax1.add_patch(rectangle)\n",
    "    #plt.plot(center[0],center[1], \"ro\")\n",
    "    color = np.linspace(0,.99,bands+1)\n",
    "    for i in reversed(range(bands)):\n",
    "        c=color[i]\n",
    "        patch = patches.Circle((center[0],center[1]), radius=.075*i,color=str(c))\n",
    "        ax1.add_patch(patch)\n",
    "        patch.set_clip_path(rectangle)                  \n",
    "    ax1.axis(\"equal\")\n",
    "    ax1.axis(\"off\")\n",
    "    fig.savefig(figures + 'norm_graph.png', dpi=dpi, transparent=True)\n",
    "    img= Image.frombytes('RGB',fig.canvas.get_width_height(),fig.canvas.tostring_rgb())\n",
    "    image_array = np.asarray(img)\n",
    "    hist, bins = np.histogram(image_array,bins=bands,range=(0,249))\n",
    "    plt.show()\n",
    "    #plt.hist(image_array.ravel(), bins=bands, range=(0,249))\n",
    "    width = 0.7 * (bins[1] - bins[0])\n",
    "    center = (bins[:-1] + bins[1:]) / 2\n",
    "    #plt.bar(center, hist, align='center', width=width)\n",
    "    return hist,bins \n",
    "    \n",
    "hist,bins = Normalize()"
   ]
  },
  {
   "cell_type": "markdown",
   "metadata": {},
   "source": [
    "### Calculate area of each pixel "
   ]
  },
  {
   "cell_type": "code",
   "execution_count": null,
   "metadata": {},
   "outputs": [],
   "source": [
    "from math import pi\n",
    "r = 7.5\n",
    "print (\"The area of the circle with radius \" + str(r) + \"cm is: \" + str(pi * r**2))\n",
    "area = pi * r**2\n",
    "circle = hist[1]\n",
    "pix_cm = circle/area\n",
    "print(\"Amount of pixels in a circle: %s\" %(circle))\n",
    "print (\"11730 pixels are %s cm**2\" %(11730 /pix_cm))\n",
    "print (\"pixels per cm**2 : %s\" %(pix_cm))\n"
   ]
  },
  {
   "cell_type": "code",
   "execution_count": null,
   "metadata": {},
   "outputs": [],
   "source": [
    "k= hist/pix_cm\n",
    "width = 0.7 * (bins[1] - bins[0])\n",
    "center = (bins[:-1] + bins[1:]) / 2\n",
    "plt.bar(center, k, align='center', width=width)\n",
    "plt.title(\"density in cm**2\")"
   ]
  },
  {
   "cell_type": "markdown",
   "metadata": {},
   "source": [
    "### Now take the counts and multiply the distributions correctly - so make a histogram for each time beacon changes "
   ]
  },
  {
   "cell_type": "code",
   "execution_count": null,
   "metadata": {},
   "outputs": [],
   "source": [
    "FS04=pd.read_excel(processed +'FS04_rears_new.xlsx', index_col=0)\n",
    "FS03=pd.read_excel(processed +'FS03_rears_new.xlsx', index_col=0)\n",
    "\n",
    "FS04"
   ]
  },
  {
   "cell_type": "markdown",
   "metadata": {},
   "source": [
    "## Test dataset "
   ]
  },
  {
   "cell_type": "code",
   "execution_count": null,
   "metadata": {},
   "outputs": [],
   "source": [
    "FS04_test=FS04[:100]\n",
    "print(FS04_test)"
   ]
  },
  {
   "cell_type": "markdown",
   "metadata": {},
   "source": [
    "## Mutiply and add to pandas...  find where the first non-zero value is and then cut the lenght of the array same to the lenght of the rearing array - then rears array /np.norm(norm), will also need to cut the small division by zero \n",
    "\n",
    "Also try to look how the overall normalization histograam woudl look like by addign all the values together. "
   ]
  },
  {
   "cell_type": "markdown",
   "metadata": {},
   "source": [
    "## TODO: Need to account for small numbers, beacuse if they divide it by 0 then it is way too large Now calculating rears per cm**2..."
   ]
  },
  {
   "cell_type": "markdown",
   "metadata": {},
   "source": [
    "### Is the first getting accounted for?  also need to do hist/pix_cm to get cm**2 value for density"
   ]
  },
  {
   "cell_type": "code",
   "execution_count": null,
   "metadata": {},
   "outputs": [],
   "source": [
    "1000/66"
   ]
  },
  {
   "cell_type": "markdown",
   "metadata": {},
   "source": [
    "### TODO - Maybe better to split this function to make a simples easier to understand one... "
   ]
  },
  {
   "cell_type": "code",
   "execution_count": null,
   "metadata": {},
   "outputs": [],
   "source": [
    "binwidth=.075\n",
    "def Multiplication(rears,visible=True ):\n",
    "    if visible == True:\n",
    "        visibility=1\n",
    "    elif visible == False: \n",
    "        visibility=0 \n",
    "    else: \n",
    "        visibility= 0 or 1 \n",
    "    normalized_hist=[]\n",
    "    arr= np.zeros(23)\n",
    "    final= np.zeros(23)\n",
    "    normal_final= np.zeros(23)\n",
    "    dist_final= np.zeros(23)\n",
    "    change=0\n",
    "    bad=0\n",
    "    dist=[]\n",
    "    rears[13] = rears[\"BeaconX\"].shift() != rears[\"BeaconX\"]\n",
    "    #Go through each row \n",
    "    for index,row in tqdm(rears.iterrows()):\n",
    "        if row[\"Visibility\"]== visibility :\n",
    "            center = (row[\"BeaconX\"],row[\"BeaconY\"])\n",
    "            dist.append(math.sqrt((row[\"RatX\"] - row[\"BeaconX\"])**2 + (row[\"RatY\"] - row[\"BeaconY\"])**2))\n",
    "            #if switch of location of beacon \n",
    "        if row[13]==True:\n",
    "            change += 1\n",
    "            print(change)\n",
    "            #count and create normalization histogram for given location\n",
    "            hist,bins = Normalize(center)\n",
    "            print (center) \n",
    "            print (row) \n",
    "            print(len(hist))\n",
    "            print(hist)\n",
    "            out_arr = np.nonzero(hist)\n",
    "            size = len(hist[out_arr])\n",
    "            print(hist[out_arr])\n",
    "            #normalize each number to pixel value \n",
    "            multi = hist[out_arr]/pix_cm \n",
    "            print(multi)\n",
    "            print(size)\n",
    "            \n",
    "            #strip extra numbers and pad with zero's to have always 23 lenght - for not individually divided HIST\n",
    "            multi_norm=np.pad(np.asarray(multi),(0,23-len(np.asarray(multi))),'constant')\n",
    "            normal_final=np.add(normal_final,multi_norm) \n",
    "            \n",
    "            #for plottign the size histogram \n",
    "            bins = np.arange(0, 1.725 + binwidth, binwidth)\n",
    "            hist, bins = np.histogram(dist,bins = bins)\n",
    "            print(len(hist))\n",
    "            print(hist[0:size])\n",
    "            print(len(hist[0:size]))\n",
    "            width = 0.7 * (bins[1] - bins[0])\n",
    "            center = (bins[:-1] + bins[1:]) / 2\n",
    "            plt.bar(center[1::], hist[1:], align='center', width=width)\n",
    "            plt.show()\n",
    "            \n",
    "            #strip extra numbers and pad with zero's to have always 23 lenght - for not individually divided DIST\n",
    "            multi_dist=np.pad(np.asarray(hist),(0,23-len(np.asarray(hist))),'constant')\n",
    "            dist_final=np.add(dist_final,multi_dist) \n",
    "            \n",
    "            #Finally divide rears by area (always defined by size as no division by zero should appear)\n",
    "            normalized_hist=(hist[0:size]/(multi))\n",
    "            print(normalized_hist)\n",
    "            print(len(normalized_hist))\n",
    "            normalized_hist=np.pad(normalized_hist,(0,23-len(normalized_hist)),'constant')\n",
    "            print(normalized_hist)\n",
    "            print(len(normalized_hist))\n",
    "            #tried to have an approtipate size to not cut too many, but also to avoid multiplication by small numbers. \n",
    "            if any([x > .1 for x in normalized_hist]): \n",
    "                #print(normalized_hist[19])\n",
    "                print(\"bad\")\n",
    "                print(change)\n",
    "                bad+=1\n",
    "                dist=[]\n",
    "                continue\n",
    "            final = np.add(final,normalized_hist*pix_cm) \n",
    "            \n",
    "            dist=[]\n",
    "    print(\"cut %s small division sessions\" %(bad) )\n",
    "    return np.array(final)/(change-bad),normal_final/change,dist_final  # have to divide by change to get average \n",
    "            \n",
    "final_test,normal_final,dist_final = Multiplication(FS04_test)"
   ]
  },
  {
   "cell_type": "code",
   "execution_count": null,
   "metadata": {},
   "outputs": [],
   "source": [
    "binwidth=.075\n",
    "def Multiplication_simple(rears,visible=True ):\n",
    "    if visible == True:\n",
    "        visibility=1\n",
    "    elif visible == False: \n",
    "        visibility=0 \n",
    "    else: \n",
    "        visibility= 0 or 1 \n",
    "\n",
    "    normalized_hist=[]\n",
    "    arr= np.zeros(23)\n",
    "    final= np.zeros(23)\n",
    "    normal_final= np.zeros(23)\n",
    "    dist_final= np.zeros(23)\n",
    "    change=0\n",
    "    bad=0\n",
    "    dist=[]\n",
    "    rears[13] = rears[\"BeaconX\"].shift() != rears[\"BeaconX\"]\n",
    "    #Go through each row \n",
    "    for index,row in rears.iterrows():\n",
    "        if row[\"Visibility\"]== visibility :\n",
    "            \n",
    "            center = (row[\"BeaconX\"],row[\"BeaconY\"])\n",
    "            dist.append(math.sqrt((row[\"RatX\"] - row[\"BeaconX\"])**2 + (row[\"RatY\"] - row[\"BeaconY\"])**2))\n",
    "            #if switch of location of beacon \n",
    "        if row[13]==True:\n",
    "            change += 1\n",
    "            print(change)\n",
    "            \n",
    "            #count and create normalization histogram for given location\n",
    "            hist,bins = Normalize(center = (row[\"BeaconX\"],row[\"BeaconY\"]))\n",
    "            plt.show()\n",
    "            print(min(hist[np.nonzero(hist)]))\n",
    "            #to get rid of division by small numbers - any area lower then 15 cm will be assumed to be 0 1000piselx = 15 cm**2\n",
    "            hist[hist<1000]=0\n",
    "            print(min(hist[np.nonzero(hist)]))\n",
    "            out_arr = np.nonzero(hist)\n",
    "            size = len(hist[out_arr])\n",
    "            print(hist[out_arr])\n",
    "            #normalize each number to pixel value \n",
    "            multi = hist[out_arr]/pix_cm \n",
    "            #print(multi)\n",
    "            #print(size)\n",
    "            \n",
    "            #strip extra numbers and pad with zero's to have always 23 lenght - for not individually divided HIST\n",
    "            multi_norm=np.pad(np.asarray(multi),(0,23-len(np.asarray(multi))),'constant')\n",
    "            normal_final=np.add(normal_final,multi_norm) \n",
    "            \n",
    "            #for plottign the size histogram \n",
    "            bins = np.arange(0, 1.725 + binwidth, binwidth)\n",
    "            hist, bins = np.histogram(dist,bins = bins)\n",
    "#             width = 0.7 * (bins[1] - bins[0])\n",
    "#             center = (bins[:-1] + bins[1:]) / 2\n",
    "#             plt.bar(center[1::], hist[1:], align='center', width=width)\n",
    "#             plt.show()\n",
    "            \n",
    "            #strip extra numbers and pad with zero's to have always 23 lenght - for not individually divided DIST\n",
    "            multi_dist=np.pad(np.asarray(hist),(0,23-len(np.asarray(hist))),'constant')\n",
    "            dist_final=np.add(dist_final,multi_dist) \n",
    "            \n",
    "            #Finally divide rears by area (always defined by size as no division by zero should appear)\n",
    "            normalized_hist=(hist[0:size]/(multi))\n",
    "            normalized_hist=np.pad(normalized_hist,(0,23-len(normalized_hist)),'constant')\n",
    "            #tried to have an approtipate size to not cut too many, but also to avoid multiplication by small numbers.\n",
    "            #could also go through the numbersd and if very small just cut it... \n",
    "            if any([x > .1 for x in normalized_hist]): \n",
    "                #print(normalized_hist[19])\n",
    "                print(\"bad\")\n",
    "                print(change)\n",
    "                bad+=1\n",
    "                dist=[]\n",
    "                continue\n",
    "            final = np.add(final,normalized_hist*pix_cm) \n",
    "            dist=[]\n",
    "    print(\"cut %s small division sessions\" %(bad) )\n",
    "    return np.array(final)/(change-bad),normal_final/change,dist_final\n",
    "            \n",
    "final_test,normal_final,dist_final = Multiplication_simple(FS04,visible=True)"
   ]
  },
  {
   "cell_type": "code",
   "execution_count": null,
   "metadata": {},
   "outputs": [],
   "source": [
    "final_test,normal_final,dist_final = Multiplication_simple(FS04,visible=\"all\")\n",
    "np.save(processed +'FS04_Normalized_all_hist', final_test)\n"
   ]
  },
  {
   "cell_type": "code",
   "execution_count": null,
   "metadata": {
    "scrolled": true
   },
   "outputs": [],
   "source": [
    "np.set_printoptions(suppress=True)\n",
    "print(final_test)\n",
    "print(any([x > 100 for x in final_test[15:20]]))\n",
    "print(dist_final) # rears away \n",
    "print(normal_final) # to normalize it by, but first woudl need to divide by amount of bands added - Change - bad... "
   ]
  },
  {
   "cell_type": "code",
   "execution_count": null,
   "metadata": {},
   "outputs": [],
   "source": [
    "final_test_vis=final_test"
   ]
  },
  {
   "cell_type": "markdown",
   "metadata": {},
   "source": [
    "### Had the accumulated average - so I had to divide by amount of trials added first "
   ]
  },
  {
   "cell_type": "code",
   "execution_count": null,
   "metadata": {},
   "outputs": [],
   "source": [
    "9075.8/141.35 #pixels per rear. "
   ]
  },
  {
   "cell_type": "code",
   "execution_count": null,
   "metadata": {},
   "outputs": [],
   "source": [
    "9075/pix_cm"
   ]
  },
  {
   "cell_type": "code",
   "execution_count": null,
   "metadata": {},
   "outputs": [],
   "source": [
    "21748/256"
   ]
  },
  {
   "cell_type": "markdown",
   "metadata": {},
   "source": [
    "### TODO: How many should I try to cut? What should the threshold be for density of rears. also how to properlty assign density of rears..? "
   ]
  },
  {
   "cell_type": "code",
   "execution_count": null,
   "metadata": {},
   "outputs": [],
   "source": [
    "animal_ID=\"FS04\"\n",
    "bins = np.arange(0, 1.5 + binwidth, binwidth)\n",
    "width = 0.7 * (bins[1] - bins[0])\n",
    "center = (bins[:-1] + bins[1:]) / 2\n",
    "plt.title(\"rearign before normalization_invisible\")\n",
    "plt.bar(center[0:20],dist_final[0:20],align='center', width=width)\n",
    "plt.show()\n",
    "plt.title(\"overall added normalized density bands\")\n",
    "plt.bar(center[0:20],normal_final[0:20],align='center', width=width)\n",
    "plt.show()\n",
    "plt.title(\"rearign after normalization - rear per cm **2\")\n",
    "plt.bar(center[0:20],final_test[0:20],align='center', width=width)\n",
    "plt.show()\n",
    "plt.savefig('%srat_rearing_distance_normalized_FS04_INVIS%s.png'%(figures,animal_ID), dpi = 100)"
   ]
  },
  {
   "cell_type": "markdown",
   "metadata": {},
   "source": [
    "### the last graph is likley not rears per cm**2 as the numbers dont add up if there were 400 rears in 176 cm**2 then it should be around 400/176...  maybe smohow divide and multiply twice by Pix_CM> - need to write a simples function for normalization. "
   ]
  },
  {
   "cell_type": "markdown",
   "metadata": {},
   "source": [
    "### NEXT STEP - NORMALIZATION- shuffle different locations... "
   ]
  },
  {
   "cell_type": "code",
   "execution_count": null,
   "metadata": {},
   "outputs": [],
   "source": [
    "\n",
    "alpha = (5) * np.pi / 180\n",
    "zn = (Y_cut_min+circle/2) + (np.random.random() * ((Y_cut_max-circle/2) - (Y_cut_min+circle/2)))\n",
    "xn = (X_cut_min+circle/2) + (np.random.random() * ((X_cut_max-circle/2) - (X_cut_min+circle/2)))\n",
    "x = xn * np.cos(np.pi * alpha / 180.) - zn * np.sin(np.pi * alpha / 180.)\n",
    "z = xn * np.sin(np.pi * alpha / 180.) + zn * np.cos(np.pi * alpha / 180.)"
   ]
  },
  {
   "cell_type": "code",
   "execution_count": null,
   "metadata": {},
   "outputs": [],
   "source": [
    "X_cut_min = -.59 -xcut_offset\n",
    "Y_cut_max = 1.61 + ycut_offset\n",
    "X_cut_max = .12-xcut_offset\n",
    "Y_cut_min = .00 +ycut_offset"
   ]
  },
  {
   "cell_type": "code",
   "execution_count": null,
   "metadata": {},
   "outputs": [],
   "source": [
    "binwidth=.075\n",
    "def Multiplication_simple_shuffle(rears,visible=True,boot_reps=20 ):\n",
    "    final2= np.zeros(23)\n",
    "    for i in tqdm(range (boot_reps)):\n",
    "        circle=.075\n",
    "        if visible == True:\n",
    "            visibility=1\n",
    "        elif visible == False: \n",
    "            visibility=0 \n",
    "        else: \n",
    "            visibility= 0 or 1 \n",
    "\n",
    "        normalized_hist=[]\n",
    "        arr= np.zeros(23)\n",
    "        final= np.zeros(23)\n",
    "        normal_final= np.zeros(23)\n",
    "        dist_final= np.zeros(23)\n",
    "        change=0\n",
    "        bad=0\n",
    "        dist=[]\n",
    "        rears[13] = rears[\"BeaconX\"].shift() != rears[\"BeaconX\"]\n",
    "        zn = (Y_cut_min+circle/2) + (np.random.random() * ((Y_cut_max-circle/2) - (Y_cut_min+circle/2)))\n",
    "        xn = (X_cut_min+circle/2) + (np.random.random() * ((X_cut_max-circle/2) - (X_cut_min+circle/2)))\n",
    "        x = xn * np.cos(np.pi * alpha / 180.) - zn * np.sin(np.pi * alpha / 180.)\n",
    "        z = xn * np.sin(np.pi * alpha / 180.) + zn * np.cos(np.pi * alpha / 180.)\n",
    "        \n",
    "        #Go through each row \n",
    "        for index,row in rears.iterrows():\n",
    "            \n",
    "            if row[\"Visibility\"]== visibility :\n",
    "                dist.append(math.sqrt((row[\"RatX\"] - x)**2 + (row[\"RatY\"] - z)**2))\n",
    "                #if switch of location of beacon \n",
    "            if row[13]==True:\n",
    "                change += 1\n",
    "                print(change)\n",
    "                zn = (Y_cut_min+circle/2) + (np.random.random() * ((Y_cut_max-circle/2) - (Y_cut_min+circle/2)))\n",
    "                xn = (X_cut_min+circle/2) + (np.random.random() * ((X_cut_max-circle/2) - (X_cut_min+circle/2)))\n",
    "                x = xn * np.cos(np.pi * alpha / 180.) - zn * np.sin(np.pi * alpha / 180.)\n",
    "                z = xn * np.sin(np.pi * alpha / 180.) + zn * np.cos(np.pi * alpha / 180.)\n",
    "                #count and create normalization histogram for given location\n",
    "                hist,bins = Normalize(center = (x,z))\n",
    "                plt.show()\n",
    "                print(min(hist[np.nonzero(hist)]))\n",
    "                #to get rid of division by small numbers - any area lower then 15 cm will be assumed to be 0 1000piselx = 15 cm**2\n",
    "                hist[hist<1000]=0\n",
    "                print(min(hist[np.nonzero(hist)]))\n",
    "                out_arr = np.nonzero(hist)\n",
    "                size = len(hist[out_arr])\n",
    "                print(hist[out_arr])\n",
    "                #normalize each number to pixel value \n",
    "                multi = hist[out_arr]/pix_cm \n",
    "                #print(multi)\n",
    "                #print(size)\n",
    "\n",
    "                #strip extra numbers and pad with zero's to have always 23 lenght - for not individually divided HIST\n",
    "                multi_norm=np.pad(np.asarray(multi),(0,23-len(np.asarray(multi))),'constant')\n",
    "                normal_final=np.add(normal_final,multi_norm) \n",
    "\n",
    "                #for plottign the size histogram \n",
    "                bins = np.arange(0, 1.725 + binwidth, binwidth)\n",
    "                hist, bins = np.histogram(dist,bins = bins)\n",
    "    #             width = 0.7 * (bins[1] - bins[0])\n",
    "    #             center = (bins[:-1] + bins[1:]) / 2\n",
    "    #             plt.bar(center[1::], hist[1:], align='center', width=width)\n",
    "    #             plt.show()\n",
    "\n",
    "                #strip extra numbers and pad with zero's to have always 23 lenght - for not individually divided DIST\n",
    "                multi_dist=np.pad(np.asarray(hist),(0,23-len(np.asarray(hist))),'constant')\n",
    "                dist_final=np.add(dist_final,multi_dist) \n",
    "\n",
    "                #Finally divide rears by area (always defined by size as no division by zero should appear)\n",
    "                normalized_hist=(hist[0:size]/(multi))\n",
    "                normalized_hist=np.pad(normalized_hist,(0,23-len(normalized_hist)),'constant')\n",
    "                #tried to have an approtipate size to not cut too many, but also to avoid multiplication by small numbers.\n",
    "                #could also go through the numbersd and if very small just cut it... \n",
    "                if any([x > .1 for x in normalized_hist]): \n",
    "                    #print(normalized_hist[19])\n",
    "                    print(\"bad\")\n",
    "                    print(change)\n",
    "                    bad+=1\n",
    "                    dist=[]\n",
    "                    continue\n",
    "                \n",
    "                \n",
    "                final = np.add(final,normalized_hist*pix_cm) \n",
    "                print(final)\n",
    "                dist=[]\n",
    "        \n",
    "        final1 = np.array(final)/(change-bad)\n",
    "        print(final1)\n",
    "        print(\"cut %s small division sessions\" %(bad) )\n",
    "        final2=np.add(final2,final1)\n",
    "        print(final2)\n",
    "        \n",
    "    return final2,\n",
    "            \n",
    "final_boot_test = Multiplication_simple_shuffle(FS04,visible=all)"
   ]
  },
  {
   "cell_type": "code",
   "execution_count": null,
   "metadata": {},
   "outputs": [],
   "source": [
    "#final_boot_test[0]\n",
    "#np.save(processed +'FS04_shuffle_100000_rears_all_hist', final_boot_test[0])\n",
    "final_boot_test = np.load(processed +'FS04_shuffle_100000_rears_all_hist.npy')"
   ]
  },
  {
   "cell_type": "code",
   "execution_count": null,
   "metadata": {},
   "outputs": [],
   "source": [
    "animal_ID=\"FS04\"\n",
    "bins = np.arange(0, 1.725 + binwidth, binwidth)\n",
    "width = 0.7 * (bins[1] - bins[0])\n",
    "center = (bins[:-1] + bins[1:]) / 2\n",
    "plt.title(\"rearign shuffled all FS04\")\n",
    "plt.bar(center[0:21],final_boot_test[0:21],align='center', width=width)\n",
    "plt.show()"
   ]
  },
  {
   "cell_type": "code",
   "execution_count": null,
   "metadata": {},
   "outputs": [],
   "source": [
    "#final_boot_test03 = Multiplication_simple_bootstrapped(FS03,visible=all)\n",
    "#np.save(processed +'FS03_shuffle_100000_rears_all_hist', final_boot_test03[0])\n",
    "final_boot_test03 = np.load(processed +'FS03_shuffle_100000_rears_all_hist.npy')"
   ]
  },
  {
   "cell_type": "code",
   "execution_count": null,
   "metadata": {},
   "outputs": [],
   "source": [
    "animal_ID=\"FS03\"\n",
    "bins = np.arange(0, 1.725 + binwidth, binwidth)\n",
    "width = 0.7 * (bins[1] - bins[0])\n",
    "center = (bins[:-1] + bins[1:]) / 2\n",
    "plt.title(\"rearign shuffled all FS03\")\n",
    "plt.bar(center[0:21],final_boot_test03[0:21],align='center', width=width)\n",
    "plt.show()"
   ]
  },
  {
   "cell_type": "code",
   "execution_count": null,
   "metadata": {},
   "outputs": [],
   "source": [
    "import numpy as np\n",
    "from scipy.stats import ks_2samp\n",
    "\n",
    "x = np.random.normal(0,1,1000)\n",
    "y = np.random.normal(0,1,1000)\n",
    "\n",
    "ks_2samp(x, y)\n"
   ]
  },
  {
   "cell_type": "markdown",
   "metadata": {},
   "source": [
    "### SANITY CHECK - Use the overall histogram with space and divide by the over all rears - NOT INDIVIDUAL "
   ]
  },
  {
   "cell_type": "code",
   "execution_count": null,
   "metadata": {},
   "outputs": [],
   "source": [
    "post_normalized_hist=(dist_final[0:20]/normal_final[0:20])\n",
    "print (post_normalized_hist)\n",
    "\n",
    "bins = np.arange(0, 1.5 + binwidth, binwidth)\n",
    "width = 0.7 * (bins[1] - bins[0])\n",
    "center = (bins[:-1] + bins[1:]) / 2\n",
    "plt.bar(center[0:20],post_normalized_hist[0:20],align='center', width=width)\n",
    "plt.show()\n",
    "\n",
    "plt.bar(center[0:20],normal_final[0:20],align='center', width=width)\n",
    "\n"
   ]
  },
  {
   "cell_type": "code",
   "execution_count": null,
   "metadata": {},
   "outputs": [],
   "source": [
    "\n",
    "def get_rear_distance_from_beacon(rears):\n",
    "    dist=[]\n",
    "    for index,row in rears.iterrows():\n",
    "        #center = (row[\"BeaconX\"],row[\"BeaconY\"])\n",
    "        dist.append(math.sqrt((row[\"RatX\"] - row[\"BeaconX\"])**2 + (row[\"RatY\"] - row[\"BeaconY\"])**2))\n",
    "    return dist \n",
    "plt.hist(get_rear_distance_from_beacon(FS04),bins=bins)"
   ]
  },
  {
   "cell_type": "markdown",
   "metadata": {},
   "source": [
    "### Graveyard"
   ]
  },
  {
   "cell_type": "code",
   "execution_count": null,
   "metadata": {},
   "outputs": [],
   "source": [
    "vis_area_hist_norm= final_test_vis\n",
    "invis_area_norm = final_test_ivis\n",
    "\n",
    "#print(len(area_hist_norm))\n",
    "def make_simple_graphs (animal_ID,rearing,vis=final_test_vis,invis=final_test_invis):\n",
    "    binwidth=.075\n",
    "    plt.tight_layout\n",
    "    bins = np.arange(0, 1.575, binwidth)\n",
    "    interval=bins\n",
    "    print(bins)\n",
    "    bins[1]= 0.075\n",
    "    fig, ax = plt.subplots(4,sharex=False,figsize=(8, 14),gridspec_kw={'width_ratios': [3, 1]})\n",
    "    fig.suptitle(animal_ID +' rearing distance from beacons ephys',y=1)\n",
    "\n",
    "    N, bins, patches=ax[0].hist(get_rear_distance_from_beacon(rearing.loc[rearing['Visibility']==1]),bins=bins,ec='w')\n",
    "    \n",
    "#     print(len(norm))\n",
    "#     print(len(bins))\n",
    "#     print(N*norm)\n",
    "    \n",
    "    ax[0].set_title('Visible attempt')\n",
    "    for i in range(0,1):\n",
    "        patches[i].set_facecolor('g')\n",
    "    for i in range(1, len(patches)):\n",
    "        patches[i].set_facecolor('blue')\n",
    "        fig.tight_layout(pad=1.5)\n",
    "        \n",
    "    N1, bins, patches=ax[1].hist(get_rear_distance_from_beacon(rearing.loc[rearing['Visibility']==0]),bins=bins,ec='w')\n",
    "    #print(N1*norm)\n",
    "    ax[1].set_title('Invisible attempt')\n",
    "    for i in range(0,1):\n",
    "        patches[i].set_facecolor('g')\n",
    "    for i in range(1, len(patches)):\n",
    "        patches[i].set_facecolor('blue')\n",
    "        fig.tight_layout(pad=1.5)\n",
    "\n",
    "   # print(area_hist_norm)\n",
    "\n",
    "    bins = np.arange(0, 1.725 + binwidth, binwidth)\n",
    "    width = 0.7 * (bins[1] - bins[0])\n",
    "    center = (bins[:-1] + bins[1:]) / 2\n",
    "    print(bins,center)\n",
    "    N1, bins, patches = ax[2].bar(center, vis, align='center', width=width)\n",
    "    ax[2].set_title('Visible attempt Normalized')\n",
    "    for i in range(0,1):\n",
    "        patches[i].set_facecolor('g')\n",
    "    for i in range(1, len(patches)):\n",
    "        patches[i].set_facecolor('blue')\n",
    "        fig.tight_layout(pad=1.5)\n",
    "    \n",
    "    number, bins, patches= ax[3].bar(center, invis, align='center', width=width)\n",
    "    ax[3].set_title('invisible attempt Normalized')\n",
    "    for i in range(0,1):\n",
    "        patches[i].set_facecolor('g')\n",
    "    for i in range(1, len(patches)):\n",
    "        patches[i].set_facecolor('blue')\n",
    "        fig.tight_layout(pad=1.5)\n",
    "    \n",
    "    \n",
    "    \n",
    "        \n",
    "    plt.savefig('%srat_rearing_distance_from_beacons_normalized%s.png'%(figures,animal_ID), dpi = 100)\n",
    "\n",
    "    \n",
    "    \n",
    "make_simple_graphs('FS03' ,FS04) \n"
   ]
  },
  {
   "cell_type": "code",
   "execution_count": null,
   "metadata": {},
   "outputs": [],
   "source": [
    "\n",
    "###OLD\n",
    "binwidth=.075\n",
    "def invisible_Multiplication(rears):\n",
    "    normalized_hist=[]\n",
    "    arr= np.zeros(23)\n",
    "    final= np.zeros(23)\n",
    "    normal_final= np.zeros(23)\n",
    "    dist_final= np.zeros(23)\n",
    "    change=0\n",
    "    dist=[]\n",
    "    rears[13] = rears[\"BeaconX\"].shift() != rears[\"BeaconX\"]\n",
    "    for index,row in rears.iterrows():\n",
    "        if row[\"Visibility\"]==1:\n",
    "            center = (row[\"BeaconX\"],row[\"BeaconY\"])\n",
    "            dist.append(math.sqrt((row[\"RatX\"] - row[\"BeaconX\"])**2 + (row[\"RatY\"] - row[\"BeaconY\"])**2))\n",
    "            #print(row)\n",
    "        if row[13]==True:\n",
    "            change += 1\n",
    "            print(change)\n",
    "            hist,bins = Normalize(center = (row[\"BeaconX\"],row[\"BeaconY\"]))\n",
    "            print(len(hist))\n",
    "            print(hist)\n",
    "            out_arr = np.nonzero(hist)\n",
    "            size = len(hist[out_arr])\n",
    "            print(hist[out_arr])\n",
    "            multi=[]\n",
    "            for count in hist[out_arr]: \n",
    "                k= count/int(sum(hist[out_arr]))\n",
    "                multi.append(k)\n",
    "            print(multi)\n",
    "            print(size)\n",
    "            multi_norm=np.pad(np.asarray(multi),(0,23-len(np.asarray(multi))),'constant')\n",
    "            normal_final=np.add(normal_final,multi_norm) \n",
    "            \n",
    "            bins = np.arange(0, 1.725 + binwidth, binwidth)\n",
    "            #bins[1]= 0.075\n",
    "            hist, bins = np.histogram(dist,bins = bins)\n",
    "            print(len(hist))\n",
    "            print(hist[0:size])\n",
    "            print(len(hist[0:size]))\n",
    "            \n",
    "            width = 0.7 * (bins[1] - bins[0])\n",
    "            center = (bins[:-1] + bins[1:]) / 2\n",
    "            plt.bar(center[1::], hist[1:], align='center', width=width)\n",
    "            plt.show()\n",
    "            \n",
    "            multi_dist=np.pad(np.asarray(hist),(0,23-len(np.asarray(hist))),'constant')\n",
    "            dist_final=np.add(dist_final,multi_dist) \n",
    "            \n",
    "            \n",
    "            normalized_hist=(hist[0:size]/(multi))\n",
    "            print(normalized_hist)\n",
    "            print(len(normalized_hist))\n",
    "            normalized_hist=np.pad(normalized_hist,(0,23-len(normalized_hist)),'constant')\n",
    "            print(normalized_hist)\n",
    "            print(len(normalized_hist))\n",
    "            if normalized_hist[19]>1000: \n",
    "                print(normalized_hist[19])\n",
    "                print(\"bad\")\n",
    "                print(change)\n",
    "                continue\n",
    "            final = np.add(final,normalized_hist) \n",
    "            \n",
    "            dist=[]\n",
    "    return np.array(final),normal_final,dist_final\n",
    "            \n",
    "inv_final_test,inv_normal_final,inv_dist_final = invisible_Multiplication(FS04)"
   ]
  },
  {
   "cell_type": "code",
   "execution_count": null,
   "metadata": {},
   "outputs": [],
   "source": [
    "np.asarray()\n",
    "plt.imshow(image_array)\n",
    "plt.colorbar()\n",
    "plt.show()\n",
    "np.histogram(image_array)\n",
    "hist, bins = np.histogram(image_array,bins=19,range=(0,249))\n",
    "width = 0.7 * (bins[1] - bins[0])\n",
    "center = (bins[:-1] + bins[1:]) / 2\n",
    "plt.bar(center, hist, align='center', width=width)\n",
    "plt.show()\n",
    "hist,bins/19"
   ]
  },
  {
   "cell_type": "code",
   "execution_count": null,
   "metadata": {},
   "outputs": [],
   "source": [
    "def fig2img(fig):\n",
    "    \"\"\"Convert a Matplotlib figure to a PIL Image and return it\"\"\"\n",
    "    import io\n",
    "    buf = io.BytesIO()\n",
    "    fig.savefig(buf)\n",
    "    buf.seek(0)\n",
    "    img = Image.open(buf)\n",
    "    return img"
   ]
  },
  {
   "cell_type": "code",
   "execution_count": null,
   "metadata": {},
   "outputs": [],
   "source": []
  }
 ],
 "metadata": {
  "kernelspec": {
   "display_name": "Python 3",
   "language": "python",
   "name": "python3"
  },
  "language_info": {
   "codemirror_mode": {
    "name": "ipython",
    "version": 3
   },
   "file_extension": ".py",
   "mimetype": "text/x-python",
   "name": "python",
   "nbconvert_exporter": "python",
   "pygments_lexer": "ipython3",
   "version": "3.7.3"
  }
 },
 "nbformat": 4,
 "nbformat_minor": 2
}
