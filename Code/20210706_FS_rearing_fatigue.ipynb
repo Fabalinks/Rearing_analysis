{
 "cells": [
  {
   "cell_type": "markdown",
   "metadata": {},
   "source": [
    "# The goal is to fin difference in rearing at the beggin of task and the end - how frequent they would be. "
   ]
  },
  {
   "cell_type": "markdown",
   "metadata": {},
   "source": [
    "## 1.Split into tasks - by time if loger then 60 - new trial shoudl be 55 in Fs04 and 48 in FS03 \n",
    "2. Split each task into half - first 15 minutes last 15 minutes - or so - plot amount of rears in first and second half. - average number per session "
   ]
  },
  {
   "cell_type": "code",
   "execution_count": 7,
   "metadata": {},
   "outputs": [],
   "source": [
    "import math\n",
    "import pandas as pd \n",
    "import matplotlib.pyplot as plt \n",
    "import numpy as np\n",
    "import seaborn as sns\n",
    "import matplotlib.lines as mlines\n",
    "import matplotlib.patches as mpatches\n",
    "from numpy import median\n",
    "from scipy.stats import ranksums\n",
    "import numpy as np\n",
    "import scipy.stats\n",
    "import os\n",
    "import fnmatch"
   ]
  },
  {
   "cell_type": "code",
   "execution_count": 20,
   "metadata": {},
   "outputs": [
    {
     "data": {
      "text/html": [
       "<div>\n",
       "<style scoped>\n",
       "    .dataframe tbody tr th:only-of-type {\n",
       "        vertical-align: middle;\n",
       "    }\n",
       "\n",
       "    .dataframe tbody tr th {\n",
       "        vertical-align: top;\n",
       "    }\n",
       "\n",
       "    .dataframe thead th {\n",
       "        text-align: right;\n",
       "    }\n",
       "</style>\n",
       "<table border=\"1\" class=\"dataframe\">\n",
       "  <thead>\n",
       "    <tr style=\"text-align: right;\">\n",
       "      <th></th>\n",
       "      <th>Time</th>\n",
       "      <th>RatX</th>\n",
       "      <th>RatY</th>\n",
       "      <th>RatZ</th>\n",
       "      <th>BeaconX</th>\n",
       "      <th>BeaconY</th>\n",
       "      <th>Visibility</th>\n",
       "      <th>Change</th>\n",
       "      <th>Did_he_Get_it</th>\n",
       "      <th>time_since_last_b_total</th>\n",
       "      <th>t_since_last_b</th>\n",
       "    </tr>\n",
       "  </thead>\n",
       "  <tbody>\n",
       "    <tr>\n",
       "      <th>0</th>\n",
       "      <td>1608550224.000</td>\n",
       "      <td>0.101</td>\n",
       "      <td>-0.118</td>\n",
       "      <td>0.624</td>\n",
       "      <td>-0.162</td>\n",
       "      <td>-0.529</td>\n",
       "      <td>1</td>\n",
       "      <td>1</td>\n",
       "      <td>True</td>\n",
       "      <td>1608550224.000</td>\n",
       "      <td>0.000</td>\n",
       "    </tr>\n",
       "    <tr>\n",
       "      <th>1</th>\n",
       "      <td>1608550231.550</td>\n",
       "      <td>-0.344</td>\n",
       "      <td>0.785</td>\n",
       "      <td>0.621</td>\n",
       "      <td>-0.162</td>\n",
       "      <td>-0.529</td>\n",
       "      <td>1</td>\n",
       "      <td>1</td>\n",
       "      <td>False</td>\n",
       "      <td>1608550224.000</td>\n",
       "      <td>7.550</td>\n",
       "    </tr>\n",
       "    <tr>\n",
       "      <th>2</th>\n",
       "      <td>1608550239.480</td>\n",
       "      <td>-0.087</td>\n",
       "      <td>-0.517</td>\n",
       "      <td>0.622</td>\n",
       "      <td>-0.162</td>\n",
       "      <td>-0.529</td>\n",
       "      <td>1</td>\n",
       "      <td>1</td>\n",
       "      <td>False</td>\n",
       "      <td>1608550224.000</td>\n",
       "      <td>15.480</td>\n",
       "    </tr>\n",
       "    <tr>\n",
       "      <th>3</th>\n",
       "      <td>1608550253.090</td>\n",
       "      <td>-0.027</td>\n",
       "      <td>-0.707</td>\n",
       "      <td>0.622</td>\n",
       "      <td>-0.162</td>\n",
       "      <td>-0.529</td>\n",
       "      <td>1</td>\n",
       "      <td>1</td>\n",
       "      <td>False</td>\n",
       "      <td>1608550224.000</td>\n",
       "      <td>29.090</td>\n",
       "    </tr>\n",
       "    <tr>\n",
       "      <th>4</th>\n",
       "      <td>1608550266.690</td>\n",
       "      <td>-0.235</td>\n",
       "      <td>-0.457</td>\n",
       "      <td>0.627</td>\n",
       "      <td>-0.162</td>\n",
       "      <td>-0.529</td>\n",
       "      <td>1</td>\n",
       "      <td>1</td>\n",
       "      <td>False</td>\n",
       "      <td>1608550224.000</td>\n",
       "      <td>42.690</td>\n",
       "    </tr>\n",
       "  </tbody>\n",
       "</table>\n",
       "</div>"
      ],
      "text/plain": [
       "            Time   RatX   RatY  RatZ  BeaconX  BeaconY  Visibility  Change  \\\n",
       "0 1608550224.000  0.101 -0.118 0.624   -0.162   -0.529           1       1   \n",
       "1 1608550231.550 -0.344  0.785 0.621   -0.162   -0.529           1       1   \n",
       "2 1608550239.480 -0.087 -0.517 0.622   -0.162   -0.529           1       1   \n",
       "3 1608550253.090 -0.027 -0.707 0.622   -0.162   -0.529           1       1   \n",
       "4 1608550266.690 -0.235 -0.457 0.627   -0.162   -0.529           1       1   \n",
       "\n",
       "   Did_he_Get_it  time_since_last_b_total  t_since_last_b  \n",
       "0           True           1608550224.000           0.000  \n",
       "1          False           1608550224.000           7.550  \n",
       "2          False           1608550224.000          15.480  \n",
       "3          False           1608550224.000          29.090  \n",
       "4          False           1608550224.000          42.690  "
      ]
     },
     "execution_count": 20,
     "metadata": {},
     "output_type": "execute_result"
    }
   ],
   "source": [
    "processed= 'C:/Users/Fabian/Desktop/Analysis/Round3_FS03_FS06/processed/'\n",
    "rearing_FS04 = pd.read_excel(processed + 'FS04_rears.xlsx',index_col=0)\n",
    "rearing_FS03 = pd.read_excel(processed + 'FS03_rears.xlsx',index_col=0)\n",
    "pd.options.display.float_format = '{:.3f}'.format\n",
    "rearing_FS03.head()"
   ]
  },
  {
   "cell_type": "code",
   "execution_count": 34,
   "metadata": {},
   "outputs": [
    {
     "data": {
      "text/plain": [
       "0         nan\n",
       "1       7.550\n",
       "2       7.930\n",
       "3      13.610\n",
       "4      13.600\n",
       "5       1.200\n",
       "6      36.220\n",
       "7      16.050\n",
       "8      26.810\n",
       "9       6.580\n",
       "10     22.550\n",
       "11      6.410\n",
       "12      3.420\n",
       "13     14.270\n",
       "14      1.580\n",
       "15      6.080\n",
       "16     11.920\n",
       "17     33.470\n",
       "18     14.150\n",
       "19      1.720\n",
       "20     14.100\n",
       "21     62.590\n",
       "22      1.720\n",
       "23      9.900\n",
       "24      1.470\n",
       "25     31.770\n",
       "26      8.100\n",
       "27      1.440\n",
       "28      2.540\n",
       "29     61.180\n",
       "        ...  \n",
       "6028    5.450\n",
       "6029    5.660\n",
       "6030   10.990\n",
       "6031    6.210\n",
       "6032    1.370\n",
       "6033   20.710\n",
       "6034    1.530\n",
       "6035   22.610\n",
       "6036   15.560\n",
       "6037    4.020\n",
       "6038    5.460\n",
       "6039    6.540\n",
       "6040    7.390\n",
       "6041   36.710\n",
       "6042    1.850\n",
       "6043   15.800\n",
       "6044    6.120\n",
       "6045    6.700\n",
       "6046   11.900\n",
       "6047   15.780\n",
       "6048    2.820\n",
       "6049    1.740\n",
       "6050   21.720\n",
       "6051    1.870\n",
       "6052    9.380\n",
       "6053   10.910\n",
       "6054    6.010\n",
       "6055    3.290\n",
       "6056    3.670\n",
       "6057   29.140\n",
       "Name: Time, Length: 6058, dtype: float64"
      ]
     },
     "execution_count": 34,
     "metadata": {},
     "output_type": "execute_result"
    }
   ],
   "source": [
    "k=rearing_FS03['Time'].diff()\n",
    "k"
   ]
  },
  {
   "cell_type": "code",
   "execution_count": 33,
   "metadata": {},
   "outputs": [
    {
     "ename": "TypeError",
     "evalue": "'>' not supported between instances of 'list' and 'int'",
     "output_type": "error",
     "traceback": [
      "\u001b[1;31m---------------------------------------------------------------------------\u001b[0m",
      "\u001b[1;31mTypeError\u001b[0m                                 Traceback (most recent call last)",
      "\u001b[1;32m<ipython-input-33-34dd9a6c1863>\u001b[0m in \u001b[0;36m<module>\u001b[1;34m\u001b[0m\n\u001b[1;32m----> 1\u001b[1;33m \u001b[1;32mif\u001b[0m \u001b[0mk\u001b[0m\u001b[1;33m>\u001b[0m\u001b[1;36m120\u001b[0m\u001b[1;33m:\u001b[0m\u001b[1;33m\u001b[0m\u001b[1;33m\u001b[0m\u001b[0m\n\u001b[0m\u001b[0;32m      2\u001b[0m     \u001b[0mprint\u001b[0m\u001b[1;33m(\u001b[0m\u001b[1;34m\"trial\"\u001b[0m\u001b[1;33m)\u001b[0m\u001b[1;33m\u001b[0m\u001b[1;33m\u001b[0m\u001b[0m\n",
      "\u001b[1;31mTypeError\u001b[0m: '>' not supported between instances of 'list' and 'int'"
     ]
    }
   ],
   "source": [
    "if k>120:\n",
    "    print(\"trial\")"
   ]
  },
  {
   "cell_type": "code",
   "execution_count": 61,
   "metadata": {},
   "outputs": [],
   "source": [
    "index_of_new_trial=k[k.gt(100)].index"
   ]
  },
  {
   "cell_type": "code",
   "execution_count": 64,
   "metadata": {},
   "outputs": [
    {
     "data": {
      "text/plain": [
       "51"
      ]
     },
     "execution_count": 64,
     "metadata": {},
     "output_type": "execute_result"
    }
   ],
   "source": [
    "len(index_of_new_trial)"
   ]
  },
  {
   "cell_type": "code",
   "execution_count": null,
   "metadata": {},
   "outputs": [],
   "source": [
    "Need to build it inot the rearing histogram"
   ]
  }
 ],
 "metadata": {
  "kernelspec": {
   "display_name": "Python 3",
   "language": "python",
   "name": "python3"
  },
  "language_info": {
   "codemirror_mode": {
    "name": "ipython",
    "version": 3
   },
   "file_extension": ".py",
   "mimetype": "text/x-python",
   "name": "python",
   "nbconvert_exporter": "python",
   "pygments_lexer": "ipython3",
   "version": "3.7.3"
  }
 },
 "nbformat": 4,
 "nbformat_minor": 2
}
