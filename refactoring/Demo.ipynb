{
 "cells": [
  {
   "cell_type": "code",
   "execution_count": 1,
   "metadata": {},
   "outputs": [],
   "source": [
    "import base\n",
    "import matplotlib.pyplot as plt\n",
    "import numpy as np\n",
    "import rearing_distribution"
   ]
  },
  {
   "cell_type": "code",
   "execution_count": 2,
   "metadata": {},
   "outputs": [
    {
     "ename": "ValueError",
     "evalue": "One of beacon or position data is missing in 20211006-154014",
     "output_type": "error",
     "traceback": [
      "\u001b[1;31m---------------------------------------------------------------------------\u001b[0m",
      "\u001b[1;31mValueError\u001b[0m                                Traceback (most recent call last)",
      "\u001b[1;32m<ipython-input-2-38f7ee967655>\u001b[0m in \u001b[0;36m<module>\u001b[1;34m\u001b[0m\n\u001b[0;32m      2\u001b[0m              '../../../Multiple_trial_analysis/Data/Raw/FS10/BPositions_FS10_20211011-094820/', '../../../Multiple_trial_analysis/Data/Raw/FS10/BPositions_FS10_20211014-160224/']\n\u001b[0;32m      3\u001b[0m \u001b[0mtags\u001b[0m \u001b[1;33m=\u001b[0m \u001b[1;33m[\u001b[0m\u001b[1;34m'20211006-154014'\u001b[0m\u001b[1;33m,\u001b[0m\u001b[1;34m'20211007-150456'\u001b[0m\u001b[1;33m,\u001b[0m \u001b[1;34m'20211011-094820'\u001b[0m\u001b[1;33m,\u001b[0m \u001b[1;34m'20211014-160224'\u001b[0m\u001b[1;33m]\u001b[0m\u001b[1;33m\u001b[0m\u001b[1;33m\u001b[0m\u001b[0m\n\u001b[1;32m----> 4\u001b[1;33m \u001b[0mdata\u001b[0m \u001b[1;33m=\u001b[0m \u001b[0mbase\u001b[0m\u001b[1;33m.\u001b[0m\u001b[0mMultiDaysBeaconPosition\u001b[0m\u001b[1;33m(\u001b[0m\u001b[0mroot_paths\u001b[0m\u001b[1;33m,\u001b[0m \u001b[0mtags\u001b[0m\u001b[1;33m,\u001b[0m \u001b[0mhas_beacon\u001b[0m \u001b[1;33m=\u001b[0m \u001b[1;32mTrue\u001b[0m\u001b[1;33m,\u001b[0m \u001b[0mhas_metadata\u001b[0m \u001b[1;33m=\u001b[0m \u001b[1;32mTrue\u001b[0m\u001b[1;33m)\u001b[0m\u001b[1;33m\u001b[0m\u001b[1;33m\u001b[0m\u001b[0m\n\u001b[0m",
      "\u001b[1;32m~\\Desktop\\Analysis\\Round3_FS03_FS06\\refactoring\\base.py\u001b[0m in \u001b[0;36m__init__\u001b[1;34m(self, root_paths, tags, has_beacon, has_metadata)\u001b[0m\n\u001b[0;32m    163\u001b[0m         \u001b[1;32mfor\u001b[0m \u001b[0mroot_path\u001b[0m\u001b[1;33m,\u001b[0m \u001b[0mtag\u001b[0m \u001b[1;32min\u001b[0m \u001b[0mzip\u001b[0m\u001b[1;33m(\u001b[0m\u001b[0mroot_paths\u001b[0m\u001b[1;33m,\u001b[0m \u001b[0mtags\u001b[0m\u001b[1;33m)\u001b[0m\u001b[1;33m:\u001b[0m\u001b[1;33m\u001b[0m\u001b[1;33m\u001b[0m\u001b[0m\n\u001b[0;32m    164\u001b[0m             self.dataset_list.append(\n\u001b[1;32m--> 165\u001b[1;33m                 BeaconPosition(root_path, tag, has_beacon, has_metadata))\n\u001b[0m\u001b[0;32m    166\u001b[0m         self.multisession_statistics, self.individual_statistics = self.get_statistics(\n\u001b[0;32m    167\u001b[0m         )\n",
      "\u001b[1;32m~\\Desktop\\Analysis\\Round3_FS03_FS06\\refactoring\\base.py\u001b[0m in \u001b[0;36m__init__\u001b[1;34m(self, root_path, tag, has_beacon, has_metadata)\u001b[0m\n\u001b[0;32m    119\u001b[0m     \u001b[1;32mdef\u001b[0m \u001b[0m__init__\u001b[0m\u001b[1;33m(\u001b[0m\u001b[0mself\u001b[0m\u001b[1;33m,\u001b[0m \u001b[0mroot_path\u001b[0m\u001b[1;33m,\u001b[0m \u001b[0mtag\u001b[0m\u001b[1;33m,\u001b[0m \u001b[0mhas_beacon\u001b[0m\u001b[1;33m=\u001b[0m\u001b[1;32mTrue\u001b[0m\u001b[1;33m,\u001b[0m \u001b[0mhas_metadata\u001b[0m\u001b[1;33m=\u001b[0m\u001b[1;32mTrue\u001b[0m\u001b[1;33m)\u001b[0m\u001b[1;33m:\u001b[0m\u001b[1;33m\u001b[0m\u001b[1;33m\u001b[0m\u001b[0m\n\u001b[0;32m    120\u001b[0m         self.position_data, self.beacon_data, self.metadata = read_data(\n\u001b[1;32m--> 121\u001b[1;33m             root_path, tag, has_beacon, has_metadata)\n\u001b[0m\u001b[0;32m    122\u001b[0m         self.position_data = rotation_correction(\n\u001b[0;32m    123\u001b[0m             self.position_data.to_numpy(dtype = np.float64)[:, :4])\n",
      "\u001b[1;32m~\\Desktop\\Analysis\\Round3_FS03_FS06\\refactoring\\base.py\u001b[0m in \u001b[0;36mread_data\u001b[1;34m(root_path, tag, has_beacon, has_metadata)\u001b[0m\n\u001b[0;32m     34\u001b[0m             \u001b[0mmetadata\u001b[0m \u001b[1;33m=\u001b[0m \u001b[0mpd\u001b[0m\u001b[1;33m.\u001b[0m\u001b[0mread_csv\u001b[0m\u001b[1;33m(\u001b[0m\u001b[0mp\u001b[0m\u001b[1;33m,\u001b[0m \u001b[0msep\u001b[0m\u001b[1;33m=\u001b[0m\u001b[1;34m\" : \"\u001b[0m\u001b[1;33m,\u001b[0m \u001b[0mheader\u001b[0m\u001b[1;33m=\u001b[0m\u001b[1;32mNone\u001b[0m\u001b[1;33m,\u001b[0m \u001b[0mindex_col\u001b[0m\u001b[1;33m=\u001b[0m\u001b[1;36m0\u001b[0m\u001b[1;33m)\u001b[0m\u001b[1;33m.\u001b[0m\u001b[0mT\u001b[0m\u001b[1;33m\u001b[0m\u001b[1;33m\u001b[0m\u001b[0m\n\u001b[0;32m     35\u001b[0m     \u001b[1;32mif\u001b[0m \u001b[0mhas_beacon\u001b[0m \u001b[1;32mand\u001b[0m \u001b[0mbeacon_data\u001b[0m \u001b[1;32mis\u001b[0m \u001b[1;32mNone\u001b[0m \u001b[1;32mor\u001b[0m \u001b[0mposition_data\u001b[0m \u001b[1;32mis\u001b[0m \u001b[1;32mNone\u001b[0m\u001b[1;33m:\u001b[0m\u001b[1;33m\u001b[0m\u001b[1;33m\u001b[0m\u001b[0m\n\u001b[1;32m---> 36\u001b[1;33m         \u001b[1;32mraise\u001b[0m \u001b[0mValueError\u001b[0m\u001b[1;33m(\u001b[0m\u001b[1;34mf'One of beacon or position data is missing in {tag}'\u001b[0m\u001b[1;33m)\u001b[0m\u001b[1;33m\u001b[0m\u001b[1;33m\u001b[0m\u001b[0m\n\u001b[0m\u001b[0;32m     37\u001b[0m     \u001b[1;32mif\u001b[0m \u001b[0mhas_metadata\u001b[0m \u001b[1;32mand\u001b[0m \u001b[0mmetadata\u001b[0m \u001b[1;32mis\u001b[0m \u001b[1;32mNone\u001b[0m\u001b[1;33m:\u001b[0m\u001b[1;33m\u001b[0m\u001b[1;33m\u001b[0m\u001b[0m\n\u001b[0;32m     38\u001b[0m         \u001b[1;32mraise\u001b[0m \u001b[0mValueError\u001b[0m\u001b[1;33m(\u001b[0m\u001b[1;34mf'Metadata is missing in {tag}'\u001b[0m\u001b[1;33m)\u001b[0m\u001b[1;33m\u001b[0m\u001b[1;33m\u001b[0m\u001b[0m\n",
      "\u001b[1;31mValueError\u001b[0m: One of beacon or position data is missing in 20211006-154014"
     ]
    }
   ],
   "source": [
    "root_paths = ['../../../Multiple_trial_analysis/Data/Raw/FS10/BPositions_FS10_20211006-154014/', '../../../Multiple_trial_analysis/Data/Raw/FS10/BPositions_FS10_20211007-150456/',\\\n",
    "             '../../../Multiple_trial_analysis/Data/Raw/FS10/BPositions_FS10_20211011-094820/', '../../../Multiple_trial_analysis/Data/Raw/FS10/BPositions_FS10_20211014-160224/']\n",
    "tags = ['20211006-154014','20211007-150456', '20211011-094820', '20211014-160224']\n",
    "data = base.MultiDaysBeaconPosition(root_paths, tags, has_beacon = True, has_metadata = True)"
   ]
  },
  {
   "cell_type": "code",
   "execution_count": null,
   "metadata": {},
   "outputs": [],
   "source": [
    "rearing_data, rearing_counts, rearing_durations, distance_beacon = data.get_rearings(0.62)"
   ]
  },
  {
   "cell_type": "code",
   "execution_count": 3,
   "metadata": {},
   "outputs": [
    {
     "ename": "NameError",
     "evalue": "name 'data' is not defined",
     "output_type": "error",
     "traceback": [
      "\u001b[1;31m---------------------------------------------------------------------------\u001b[0m",
      "\u001b[1;31mNameError\u001b[0m                                 Traceback (most recent call last)",
      "\u001b[1;32m<ipython-input-3-f21932a91da0>\u001b[0m in \u001b[0;36m<module>\u001b[1;34m\u001b[0m\n\u001b[1;32m----> 1\u001b[1;33m \u001b[0mrear_counts\u001b[0m\u001b[1;33m,\u001b[0m \u001b[0mhists\u001b[0m\u001b[1;33m,\u001b[0m \u001b[0mbins\u001b[0m\u001b[1;33m,\u001b[0m \u001b[0mvisibility\u001b[0m\u001b[1;33m=\u001b[0m\u001b[0mrearing_distribution\u001b[0m\u001b[1;33m.\u001b[0m\u001b[0mget_normalized_rears\u001b[0m\u001b[1;33m(\u001b[0m\u001b[0mdata\u001b[0m\u001b[1;33m,\u001b[0m \u001b[0mdistance_beacon\u001b[0m\u001b[1;33m,\u001b[0m \u001b[1;36m0\u001b[0m\u001b[1;33m)\u001b[0m\u001b[1;33m\u001b[0m\u001b[1;33m\u001b[0m\u001b[0m\n\u001b[0m",
      "\u001b[1;31mNameError\u001b[0m: name 'data' is not defined"
     ]
    }
   ],
   "source": [
    "rear_counts, hists, bins, visibility=rearing_distribution.get_normalized_rears(data, distance_beacon, 0)"
   ]
  },
  {
   "cell_type": "code",
   "execution_count": null,
   "metadata": {},
   "outputs": [],
   "source": []
  }
 ],
 "metadata": {
  "kernelspec": {
   "display_name": "Python 3",
   "language": "python",
   "name": "python3"
  },
  "language_info": {
   "codemirror_mode": {
    "name": "ipython",
    "version": 3
   },
   "file_extension": ".py",
   "mimetype": "text/x-python",
   "name": "python",
   "nbconvert_exporter": "python",
   "pygments_lexer": "ipython3",
   "version": "3.7.3"
  }
 },
 "nbformat": 4,
 "nbformat_minor": 5
}
